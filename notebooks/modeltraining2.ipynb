{
 "cells": [
  {
   "cell_type": "code",
   "execution_count": 26,
   "id": "66ccae54",
   "metadata": {},
   "outputs": [],
   "source": [
    "import pandas as pd \n",
    "import numpy as np\n",
    "import seaborn as sns\n",
    "import matplotlib.pyplot as plt\n",
    "import warnings\n",
    "warnings.filterwarnings(\"ignore\")\n"
   ]
  },
  {
   "cell_type": "code",
   "execution_count": 27,
   "id": "b2d03ccd",
   "metadata": {},
   "outputs": [],
   "source": [
    "data=pd.read_csv(r\"F:\\DS_end_end\\notebooks\\data\\gemstone - Copy.csv\")"
   ]
  },
  {
   "cell_type": "code",
   "execution_count": 28,
   "id": "71017f4e",
   "metadata": {},
   "outputs": [
    {
     "data": {
      "application/vnd.microsoft.datawrangler.viewer.v0+json": {
       "columns": [
        {
         "name": "index",
         "rawType": "int64",
         "type": "integer"
        },
        {
         "name": "id",
         "rawType": "int64",
         "type": "integer"
        },
        {
         "name": "carat",
         "rawType": "float64",
         "type": "float"
        },
        {
         "name": "cut",
         "rawType": "object",
         "type": "string"
        },
        {
         "name": "color",
         "rawType": "object",
         "type": "string"
        },
        {
         "name": "clarity",
         "rawType": "object",
         "type": "string"
        },
        {
         "name": "depth",
         "rawType": "float64",
         "type": "float"
        },
        {
         "name": "table",
         "rawType": "float64",
         "type": "float"
        },
        {
         "name": "x",
         "rawType": "float64",
         "type": "float"
        },
        {
         "name": "y",
         "rawType": "float64",
         "type": "float"
        },
        {
         "name": "z",
         "rawType": "float64",
         "type": "float"
        },
        {
         "name": "price",
         "rawType": "int64",
         "type": "integer"
        }
       ],
       "ref": "f7eebc13-6ca2-4f15-aece-080ccff54a2b",
       "rows": [
        [
         "0",
         "0",
         "1.52",
         "Premium",
         "F",
         "VS2",
         "62.2",
         "58.0",
         "7.27",
         "7.33",
         "4.55",
         "13619"
        ],
        [
         "1",
         "1",
         "2.03",
         "Very Good",
         "J",
         "SI2",
         "62.0",
         "58.0",
         "8.06",
         "8.12",
         "5.05",
         "13387"
        ],
        [
         "2",
         "2",
         "0.7",
         "Ideal",
         "G",
         "VS1",
         "61.2",
         "57.0",
         "5.69",
         "5.73",
         "3.5",
         "2772"
        ],
        [
         "3",
         "3",
         "0.32",
         "Ideal",
         "G",
         "VS1",
         "61.6",
         "56.0",
         "4.38",
         "4.41",
         "2.71",
         "666"
        ],
        [
         "4",
         "4",
         "1.7",
         "Premium",
         "G",
         "VS2",
         "62.6",
         "59.0",
         "7.65",
         "7.61",
         "4.77",
         "14453"
        ]
       ],
       "shape": {
        "columns": 11,
        "rows": 5
       }
      },
      "text/html": [
       "<div>\n",
       "<style scoped>\n",
       "    .dataframe tbody tr th:only-of-type {\n",
       "        vertical-align: middle;\n",
       "    }\n",
       "\n",
       "    .dataframe tbody tr th {\n",
       "        vertical-align: top;\n",
       "    }\n",
       "\n",
       "    .dataframe thead th {\n",
       "        text-align: right;\n",
       "    }\n",
       "</style>\n",
       "<table border=\"1\" class=\"dataframe\">\n",
       "  <thead>\n",
       "    <tr style=\"text-align: right;\">\n",
       "      <th></th>\n",
       "      <th>id</th>\n",
       "      <th>carat</th>\n",
       "      <th>cut</th>\n",
       "      <th>color</th>\n",
       "      <th>clarity</th>\n",
       "      <th>depth</th>\n",
       "      <th>table</th>\n",
       "      <th>x</th>\n",
       "      <th>y</th>\n",
       "      <th>z</th>\n",
       "      <th>price</th>\n",
       "    </tr>\n",
       "  </thead>\n",
       "  <tbody>\n",
       "    <tr>\n",
       "      <th>0</th>\n",
       "      <td>0</td>\n",
       "      <td>1.52</td>\n",
       "      <td>Premium</td>\n",
       "      <td>F</td>\n",
       "      <td>VS2</td>\n",
       "      <td>62.2</td>\n",
       "      <td>58.0</td>\n",
       "      <td>7.27</td>\n",
       "      <td>7.33</td>\n",
       "      <td>4.55</td>\n",
       "      <td>13619</td>\n",
       "    </tr>\n",
       "    <tr>\n",
       "      <th>1</th>\n",
       "      <td>1</td>\n",
       "      <td>2.03</td>\n",
       "      <td>Very Good</td>\n",
       "      <td>J</td>\n",
       "      <td>SI2</td>\n",
       "      <td>62.0</td>\n",
       "      <td>58.0</td>\n",
       "      <td>8.06</td>\n",
       "      <td>8.12</td>\n",
       "      <td>5.05</td>\n",
       "      <td>13387</td>\n",
       "    </tr>\n",
       "    <tr>\n",
       "      <th>2</th>\n",
       "      <td>2</td>\n",
       "      <td>0.70</td>\n",
       "      <td>Ideal</td>\n",
       "      <td>G</td>\n",
       "      <td>VS1</td>\n",
       "      <td>61.2</td>\n",
       "      <td>57.0</td>\n",
       "      <td>5.69</td>\n",
       "      <td>5.73</td>\n",
       "      <td>3.50</td>\n",
       "      <td>2772</td>\n",
       "    </tr>\n",
       "    <tr>\n",
       "      <th>3</th>\n",
       "      <td>3</td>\n",
       "      <td>0.32</td>\n",
       "      <td>Ideal</td>\n",
       "      <td>G</td>\n",
       "      <td>VS1</td>\n",
       "      <td>61.6</td>\n",
       "      <td>56.0</td>\n",
       "      <td>4.38</td>\n",
       "      <td>4.41</td>\n",
       "      <td>2.71</td>\n",
       "      <td>666</td>\n",
       "    </tr>\n",
       "    <tr>\n",
       "      <th>4</th>\n",
       "      <td>4</td>\n",
       "      <td>1.70</td>\n",
       "      <td>Premium</td>\n",
       "      <td>G</td>\n",
       "      <td>VS2</td>\n",
       "      <td>62.6</td>\n",
       "      <td>59.0</td>\n",
       "      <td>7.65</td>\n",
       "      <td>7.61</td>\n",
       "      <td>4.77</td>\n",
       "      <td>14453</td>\n",
       "    </tr>\n",
       "  </tbody>\n",
       "</table>\n",
       "</div>"
      ],
      "text/plain": [
       "   id  carat        cut color clarity  depth  table     x     y     z  price\n",
       "0   0   1.52    Premium     F     VS2   62.2   58.0  7.27  7.33  4.55  13619\n",
       "1   1   2.03  Very Good     J     SI2   62.0   58.0  8.06  8.12  5.05  13387\n",
       "2   2   0.70      Ideal     G     VS1   61.2   57.0  5.69  5.73  3.50   2772\n",
       "3   3   0.32      Ideal     G     VS1   61.6   56.0  4.38  4.41  2.71    666\n",
       "4   4   1.70    Premium     G     VS2   62.6   59.0  7.65  7.61  4.77  14453"
      ]
     },
     "execution_count": 28,
     "metadata": {},
     "output_type": "execute_result"
    }
   ],
   "source": [
    "data.head()"
   ]
  },
  {
   "cell_type": "code",
   "execution_count": 29,
   "id": "9bb6636a",
   "metadata": {},
   "outputs": [],
   "source": [
    " data.drop(labels = [\"id\"],axis=1,inplace=True)"
   ]
  },
  {
   "cell_type": "code",
   "execution_count": 30,
   "id": "209d7b89",
   "metadata": {},
   "outputs": [
    {
     "data": {
      "application/vnd.microsoft.datawrangler.viewer.v0+json": {
       "columns": [
        {
         "name": "index",
         "rawType": "int64",
         "type": "integer"
        },
        {
         "name": "carat",
         "rawType": "float64",
         "type": "float"
        },
        {
         "name": "cut",
         "rawType": "object",
         "type": "string"
        },
        {
         "name": "color",
         "rawType": "object",
         "type": "string"
        },
        {
         "name": "clarity",
         "rawType": "object",
         "type": "string"
        },
        {
         "name": "depth",
         "rawType": "float64",
         "type": "float"
        },
        {
         "name": "table",
         "rawType": "float64",
         "type": "float"
        },
        {
         "name": "x",
         "rawType": "float64",
         "type": "float"
        },
        {
         "name": "y",
         "rawType": "float64",
         "type": "float"
        },
        {
         "name": "z",
         "rawType": "float64",
         "type": "float"
        },
        {
         "name": "price",
         "rawType": "int64",
         "type": "integer"
        }
       ],
       "ref": "dfbd94f6-c252-4438-b933-5ad3e5f51d9b",
       "rows": [
        [
         "0",
         "1.52",
         "Premium",
         "F",
         "VS2",
         "62.2",
         "58.0",
         "7.27",
         "7.33",
         "4.55",
         "13619"
        ],
        [
         "1",
         "2.03",
         "Very Good",
         "J",
         "SI2",
         "62.0",
         "58.0",
         "8.06",
         "8.12",
         "5.05",
         "13387"
        ]
       ],
       "shape": {
        "columns": 10,
        "rows": 2
       }
      },
      "text/html": [
       "<div>\n",
       "<style scoped>\n",
       "    .dataframe tbody tr th:only-of-type {\n",
       "        vertical-align: middle;\n",
       "    }\n",
       "\n",
       "    .dataframe tbody tr th {\n",
       "        vertical-align: top;\n",
       "    }\n",
       "\n",
       "    .dataframe thead th {\n",
       "        text-align: right;\n",
       "    }\n",
       "</style>\n",
       "<table border=\"1\" class=\"dataframe\">\n",
       "  <thead>\n",
       "    <tr style=\"text-align: right;\">\n",
       "      <th></th>\n",
       "      <th>carat</th>\n",
       "      <th>cut</th>\n",
       "      <th>color</th>\n",
       "      <th>clarity</th>\n",
       "      <th>depth</th>\n",
       "      <th>table</th>\n",
       "      <th>x</th>\n",
       "      <th>y</th>\n",
       "      <th>z</th>\n",
       "      <th>price</th>\n",
       "    </tr>\n",
       "  </thead>\n",
       "  <tbody>\n",
       "    <tr>\n",
       "      <th>0</th>\n",
       "      <td>1.52</td>\n",
       "      <td>Premium</td>\n",
       "      <td>F</td>\n",
       "      <td>VS2</td>\n",
       "      <td>62.2</td>\n",
       "      <td>58.0</td>\n",
       "      <td>7.27</td>\n",
       "      <td>7.33</td>\n",
       "      <td>4.55</td>\n",
       "      <td>13619</td>\n",
       "    </tr>\n",
       "    <tr>\n",
       "      <th>1</th>\n",
       "      <td>2.03</td>\n",
       "      <td>Very Good</td>\n",
       "      <td>J</td>\n",
       "      <td>SI2</td>\n",
       "      <td>62.0</td>\n",
       "      <td>58.0</td>\n",
       "      <td>8.06</td>\n",
       "      <td>8.12</td>\n",
       "      <td>5.05</td>\n",
       "      <td>13387</td>\n",
       "    </tr>\n",
       "  </tbody>\n",
       "</table>\n",
       "</div>"
      ],
      "text/plain": [
       "   carat        cut color clarity  depth  table     x     y     z  price\n",
       "0   1.52    Premium     F     VS2   62.2   58.0  7.27  7.33  4.55  13619\n",
       "1   2.03  Very Good     J     SI2   62.0   58.0  8.06  8.12  5.05  13387"
      ]
     },
     "execution_count": 30,
     "metadata": {},
     "output_type": "execute_result"
    }
   ],
   "source": [
    "data.head(2)"
   ]
  },
  {
   "cell_type": "code",
   "execution_count": 31,
   "id": "747bce72",
   "metadata": {},
   "outputs": [
    {
     "data": {
      "application/vnd.microsoft.datawrangler.viewer.v0+json": {
       "columns": [
        {
         "name": "index",
         "rawType": "int64",
         "type": "integer"
        },
        {
         "name": "carat",
         "rawType": "float64",
         "type": "float"
        },
        {
         "name": "cut",
         "rawType": "object",
         "type": "string"
        },
        {
         "name": "color",
         "rawType": "object",
         "type": "string"
        },
        {
         "name": "clarity",
         "rawType": "object",
         "type": "string"
        },
        {
         "name": "depth",
         "rawType": "float64",
         "type": "float"
        },
        {
         "name": "table",
         "rawType": "float64",
         "type": "float"
        },
        {
         "name": "x",
         "rawType": "float64",
         "type": "float"
        },
        {
         "name": "y",
         "rawType": "float64",
         "type": "float"
        },
        {
         "name": "z",
         "rawType": "float64",
         "type": "float"
        }
       ],
       "ref": "a7d894d0-389b-4437-a604-5fc2f84d8abe",
       "rows": [
        [
         "0",
         "1.52",
         "Premium",
         "F",
         "VS2",
         "62.2",
         "58.0",
         "7.27",
         "7.33",
         "4.55"
        ],
        [
         "1",
         "2.03",
         "Very Good",
         "J",
         "SI2",
         "62.0",
         "58.0",
         "8.06",
         "8.12",
         "5.05"
        ],
        [
         "2",
         "0.7",
         "Ideal",
         "G",
         "VS1",
         "61.2",
         "57.0",
         "5.69",
         "5.73",
         "3.5"
        ],
        [
         "3",
         "0.32",
         "Ideal",
         "G",
         "VS1",
         "61.6",
         "56.0",
         "4.38",
         "4.41",
         "2.71"
        ],
        [
         "4",
         "1.7",
         "Premium",
         "G",
         "VS2",
         "62.6",
         "59.0",
         "7.65",
         "7.61",
         "4.77"
        ],
        [
         "5",
         "1.51",
         "Very Good",
         "J",
         "SI1",
         "62.8",
         "58.0",
         "7.34",
         "7.29",
         "4.59"
        ],
        [
         "6",
         "0.74",
         "Ideal",
         "E",
         "VS2",
         "61.8",
         "57.0",
         "5.76",
         "5.79",
         "3.57"
        ],
        [
         "7",
         "1.34",
         "Premium",
         "G",
         "SI2",
         "62.5",
         "57.0",
         "7.0",
         "7.05",
         "4.38"
        ],
        [
         "8",
         "0.3",
         "Ideal",
         "F",
         "IF",
         "62.0",
         "56.0",
         "4.35",
         "4.37",
         "2.7"
        ],
        [
         "9",
         "0.3",
         "Good",
         "J",
         "VS1",
         "63.6",
         "57.0",
         "4.26",
         "4.28",
         "2.72"
        ],
        [
         "10",
         "1.01",
         "Very Good",
         "G",
         "VS2",
         "63.1",
         "57.0",
         "6.4",
         "6.34",
         "4.03"
        ],
        [
         "11",
         "0.23",
         "Ideal",
         "E",
         "VVS2",
         "62.0",
         "57.0",
         "3.96",
         "3.98",
         "2.46"
        ],
        [
         "12",
         "1.01",
         "Good",
         "D",
         "SI1",
         "63.1",
         "56.0",
         "6.41",
         "6.35",
         "4.03"
        ],
        [
         "13",
         "0.31",
         "Ideal",
         "G",
         "VVS1",
         "61.8",
         "56.0",
         "4.37",
         "4.39",
         "2.71"
        ],
        [
         "14",
         "1.01",
         "Good",
         "H",
         "SI1",
         "62.6",
         "59.0",
         "6.34",
         "6.4",
         "3.99"
        ],
        [
         "15",
         "0.33",
         "Premium",
         "E",
         "VS2",
         "61.7",
         "59.0",
         "4.39",
         "4.43",
         "2.72"
        ],
        [
         "16",
         "1.06",
         "Premium",
         "E",
         "SI2",
         "60.9",
         "59.0",
         "6.61",
         "6.56",
         "4.01"
        ],
        [
         "17",
         "0.26",
         "Very Good",
         "F",
         "VVS2",
         "61.7",
         "57.0",
         "4.1",
         "4.13",
         "2.53"
        ],
        [
         "18",
         "1.01",
         "Premium",
         "G",
         "VVS1",
         "61.8",
         "58.0",
         "6.44",
         "6.37",
         "3.96"
        ],
        [
         "19",
         "0.73",
         "Very Good",
         "G",
         "VS2",
         "63.1",
         "57.0",
         "5.77",
         "5.75",
         "3.63"
        ],
        [
         "20",
         "0.7",
         "Ideal",
         "F",
         "VS1",
         "62.2",
         "56.0",
         "5.67",
         "5.72",
         "3.54"
        ],
        [
         "21",
         "0.39",
         "Ideal",
         "E",
         "VS2",
         "61.6",
         "54.0",
         "4.67",
         "4.72",
         "2.89"
        ],
        [
         "22",
         "0.25",
         "Ideal",
         "E",
         "VS2",
         "61.4",
         "57.0",
         "4.05",
         "4.08",
         "2.48"
        ],
        [
         "23",
         "0.33",
         "Premium",
         "H",
         "SI1",
         "62.1",
         "59.0",
         "4.43",
         "4.46",
         "2.76"
        ],
        [
         "24",
         "0.7",
         "Ideal",
         "F",
         "SI1",
         "61.8",
         "54.0",
         "5.71",
         "5.73",
         "3.54"
        ],
        [
         "25",
         "0.4",
         "Very Good",
         "F",
         "VS1",
         "62.3",
         "54.0",
         "4.69",
         "4.73",
         "2.93"
        ],
        [
         "26",
         "0.71",
         "Ideal",
         "E",
         "SI1",
         "61.7",
         "56.0",
         "5.74",
         "5.76",
         "3.55"
        ],
        [
         "27",
         "0.5",
         "Ideal",
         "E",
         "VS1",
         "61.4",
         "54.0",
         "5.13",
         "5.18",
         "3.17"
        ],
        [
         "28",
         "1.11",
         "Premium",
         "D",
         "SI1",
         "60.6",
         "59.0",
         "6.74",
         "6.68",
         "4.06"
        ],
        [
         "29",
         "0.37",
         "Premium",
         "F",
         "SI1",
         "61.4",
         "60.0",
         "4.63",
         "4.61",
         "2.83"
        ],
        [
         "30",
         "0.38",
         "Ideal",
         "G",
         "SI1",
         "60.7",
         "57.0",
         "4.68",
         "4.73",
         "2.86"
        ],
        [
         "31",
         "0.9",
         "Fair",
         "F",
         "SI1",
         "66.8",
         "58.0",
         "6.05",
         "5.99",
         "3.97"
        ],
        [
         "32",
         "0.7",
         "Ideal",
         "I",
         "VS1",
         "62.8",
         "54.0",
         "5.66",
         "5.68",
         "3.56"
        ],
        [
         "33",
         "0.35",
         "Ideal",
         "D",
         "VS1",
         "60.9",
         "56.0",
         "4.58",
         "4.61",
         "2.8"
        ],
        [
         "34",
         "0.41",
         "Ideal",
         "D",
         "VS1",
         "62.9",
         "54.0",
         "4.73",
         "4.76",
         "2.98"
        ],
        [
         "35",
         "0.57",
         "Ideal",
         "G",
         "SI1",
         "61.5",
         "55.0",
         "5.37",
         "5.32",
         "3.31"
        ],
        [
         "36",
         "0.32",
         "Very Good",
         "H",
         "VVS2",
         "63.5",
         "56.0",
         "4.34",
         "4.31",
         "2.74"
        ],
        [
         "37",
         "0.35",
         "Ideal",
         "F",
         "VS2",
         "61.4",
         "56.0",
         "4.53",
         "4.55",
         "2.79"
        ],
        [
         "38",
         "0.9",
         "Very Good",
         "E",
         "SI2",
         "62.9",
         "57.0",
         "6.13",
         "6.18",
         "3.88"
        ],
        [
         "39",
         "0.4",
         "Ideal",
         "D",
         "SI1",
         "61.6",
         "56.0",
         "4.74",
         "4.77",
         "2.93"
        ],
        [
         "40",
         "0.7",
         "Very Good",
         "D",
         "VS2",
         "62.1",
         "58.0",
         "5.65",
         "5.68",
         "3.52"
        ],
        [
         "41",
         "0.3",
         "Ideal",
         "D",
         "VS2",
         "61.3",
         "59.0",
         "4.33",
         "4.31",
         "2.64"
        ],
        [
         "42",
         "0.31",
         "Ideal",
         "H",
         "VS2",
         "61.6",
         "54.0",
         "4.35",
         "4.38",
         "2.69"
        ],
        [
         "43",
         "1.5",
         "Very Good",
         "G",
         "SI1",
         "63.3",
         "56.0",
         "7.27",
         "7.29",
         "4.61"
        ],
        [
         "44",
         "1.0",
         "Premium",
         "E",
         "SI1",
         "62.7",
         "60.0",
         "6.43",
         "6.39",
         "4.02"
        ],
        [
         "45",
         "1.0",
         "Ideal",
         "G",
         "SI1",
         "62.7",
         "54.0",
         "6.38",
         "6.32",
         "3.98"
        ],
        [
         "46",
         "0.9",
         "Premium",
         "E",
         "SI1",
         "61.8",
         "61.0",
         "6.19",
         "6.12",
         "3.8"
        ],
        [
         "47",
         "0.3",
         "Premium",
         "F",
         "VS2",
         "62.2",
         "59.0",
         "4.33",
         "4.29",
         "2.68"
        ],
        [
         "48",
         "0.42",
         "Ideal",
         "G",
         "VS1",
         "61.6",
         "56.0",
         "4.82",
         "4.85",
         "2.98"
        ],
        [
         "49",
         "1.04",
         "Fair",
         "G",
         "VS1",
         "65.4",
         "59.0",
         "6.31",
         "6.39",
         "4.16"
        ]
       ],
       "shape": {
        "columns": 9,
        "rows": 193573
       }
      },
      "text/html": [
       "<div>\n",
       "<style scoped>\n",
       "    .dataframe tbody tr th:only-of-type {\n",
       "        vertical-align: middle;\n",
       "    }\n",
       "\n",
       "    .dataframe tbody tr th {\n",
       "        vertical-align: top;\n",
       "    }\n",
       "\n",
       "    .dataframe thead th {\n",
       "        text-align: right;\n",
       "    }\n",
       "</style>\n",
       "<table border=\"1\" class=\"dataframe\">\n",
       "  <thead>\n",
       "    <tr style=\"text-align: right;\">\n",
       "      <th></th>\n",
       "      <th>carat</th>\n",
       "      <th>cut</th>\n",
       "      <th>color</th>\n",
       "      <th>clarity</th>\n",
       "      <th>depth</th>\n",
       "      <th>table</th>\n",
       "      <th>x</th>\n",
       "      <th>y</th>\n",
       "      <th>z</th>\n",
       "    </tr>\n",
       "  </thead>\n",
       "  <tbody>\n",
       "    <tr>\n",
       "      <th>0</th>\n",
       "      <td>1.52</td>\n",
       "      <td>Premium</td>\n",
       "      <td>F</td>\n",
       "      <td>VS2</td>\n",
       "      <td>62.2</td>\n",
       "      <td>58.0</td>\n",
       "      <td>7.27</td>\n",
       "      <td>7.33</td>\n",
       "      <td>4.55</td>\n",
       "    </tr>\n",
       "    <tr>\n",
       "      <th>1</th>\n",
       "      <td>2.03</td>\n",
       "      <td>Very Good</td>\n",
       "      <td>J</td>\n",
       "      <td>SI2</td>\n",
       "      <td>62.0</td>\n",
       "      <td>58.0</td>\n",
       "      <td>8.06</td>\n",
       "      <td>8.12</td>\n",
       "      <td>5.05</td>\n",
       "    </tr>\n",
       "    <tr>\n",
       "      <th>2</th>\n",
       "      <td>0.70</td>\n",
       "      <td>Ideal</td>\n",
       "      <td>G</td>\n",
       "      <td>VS1</td>\n",
       "      <td>61.2</td>\n",
       "      <td>57.0</td>\n",
       "      <td>5.69</td>\n",
       "      <td>5.73</td>\n",
       "      <td>3.50</td>\n",
       "    </tr>\n",
       "    <tr>\n",
       "      <th>3</th>\n",
       "      <td>0.32</td>\n",
       "      <td>Ideal</td>\n",
       "      <td>G</td>\n",
       "      <td>VS1</td>\n",
       "      <td>61.6</td>\n",
       "      <td>56.0</td>\n",
       "      <td>4.38</td>\n",
       "      <td>4.41</td>\n",
       "      <td>2.71</td>\n",
       "    </tr>\n",
       "    <tr>\n",
       "      <th>4</th>\n",
       "      <td>1.70</td>\n",
       "      <td>Premium</td>\n",
       "      <td>G</td>\n",
       "      <td>VS2</td>\n",
       "      <td>62.6</td>\n",
       "      <td>59.0</td>\n",
       "      <td>7.65</td>\n",
       "      <td>7.61</td>\n",
       "      <td>4.77</td>\n",
       "    </tr>\n",
       "    <tr>\n",
       "      <th>...</th>\n",
       "      <td>...</td>\n",
       "      <td>...</td>\n",
       "      <td>...</td>\n",
       "      <td>...</td>\n",
       "      <td>...</td>\n",
       "      <td>...</td>\n",
       "      <td>...</td>\n",
       "      <td>...</td>\n",
       "      <td>...</td>\n",
       "    </tr>\n",
       "    <tr>\n",
       "      <th>193568</th>\n",
       "      <td>0.31</td>\n",
       "      <td>Ideal</td>\n",
       "      <td>D</td>\n",
       "      <td>VVS2</td>\n",
       "      <td>61.1</td>\n",
       "      <td>56.0</td>\n",
       "      <td>4.35</td>\n",
       "      <td>4.39</td>\n",
       "      <td>2.67</td>\n",
       "    </tr>\n",
       "    <tr>\n",
       "      <th>193569</th>\n",
       "      <td>0.70</td>\n",
       "      <td>Premium</td>\n",
       "      <td>G</td>\n",
       "      <td>VVS2</td>\n",
       "      <td>60.3</td>\n",
       "      <td>58.0</td>\n",
       "      <td>5.75</td>\n",
       "      <td>5.77</td>\n",
       "      <td>3.47</td>\n",
       "    </tr>\n",
       "    <tr>\n",
       "      <th>193570</th>\n",
       "      <td>0.73</td>\n",
       "      <td>Very Good</td>\n",
       "      <td>F</td>\n",
       "      <td>SI1</td>\n",
       "      <td>63.1</td>\n",
       "      <td>57.0</td>\n",
       "      <td>5.72</td>\n",
       "      <td>5.75</td>\n",
       "      <td>3.62</td>\n",
       "    </tr>\n",
       "    <tr>\n",
       "      <th>193571</th>\n",
       "      <td>0.34</td>\n",
       "      <td>Very Good</td>\n",
       "      <td>D</td>\n",
       "      <td>SI1</td>\n",
       "      <td>62.9</td>\n",
       "      <td>55.0</td>\n",
       "      <td>4.45</td>\n",
       "      <td>4.49</td>\n",
       "      <td>2.81</td>\n",
       "    </tr>\n",
       "    <tr>\n",
       "      <th>193572</th>\n",
       "      <td>0.71</td>\n",
       "      <td>Good</td>\n",
       "      <td>E</td>\n",
       "      <td>SI2</td>\n",
       "      <td>60.8</td>\n",
       "      <td>64.0</td>\n",
       "      <td>5.73</td>\n",
       "      <td>5.71</td>\n",
       "      <td>3.48</td>\n",
       "    </tr>\n",
       "  </tbody>\n",
       "</table>\n",
       "<p>193573 rows × 9 columns</p>\n",
       "</div>"
      ],
      "text/plain": [
       "        carat        cut color clarity  depth  table     x     y     z\n",
       "0        1.52    Premium     F     VS2   62.2   58.0  7.27  7.33  4.55\n",
       "1        2.03  Very Good     J     SI2   62.0   58.0  8.06  8.12  5.05\n",
       "2        0.70      Ideal     G     VS1   61.2   57.0  5.69  5.73  3.50\n",
       "3        0.32      Ideal     G     VS1   61.6   56.0  4.38  4.41  2.71\n",
       "4        1.70    Premium     G     VS2   62.6   59.0  7.65  7.61  4.77\n",
       "...       ...        ...   ...     ...    ...    ...   ...   ...   ...\n",
       "193568   0.31      Ideal     D    VVS2   61.1   56.0  4.35  4.39  2.67\n",
       "193569   0.70    Premium     G    VVS2   60.3   58.0  5.75  5.77  3.47\n",
       "193570   0.73  Very Good     F     SI1   63.1   57.0  5.72  5.75  3.62\n",
       "193571   0.34  Very Good     D     SI1   62.9   55.0  4.45  4.49  2.81\n",
       "193572   0.71       Good     E     SI2   60.8   64.0  5.73  5.71  3.48\n",
       "\n",
       "[193573 rows x 9 columns]"
      ]
     },
     "execution_count": 31,
     "metadata": {},
     "output_type": "execute_result"
    }
   ],
   "source": [
    "#dropping the independt dependend variable\n",
    "\n",
    "x = data.drop(labels = [\"price\"],axis=1)\n",
    "x"
   ]
  },
  {
   "cell_type": "code",
   "execution_count": 32,
   "id": "88fac85f",
   "metadata": {},
   "outputs": [
    {
     "data": {
      "application/vnd.microsoft.datawrangler.viewer.v0+json": {
       "columns": [
        {
         "name": "index",
         "rawType": "int64",
         "type": "integer"
        },
        {
         "name": "price",
         "rawType": "int64",
         "type": "integer"
        }
       ],
       "ref": "1031f6f2-bfdb-4ba0-9678-87ba897f2a68",
       "rows": [
        [
         "0",
         "13619"
        ],
        [
         "1",
         "13387"
        ],
        [
         "2",
         "2772"
        ],
        [
         "3",
         "666"
        ],
        [
         "4",
         "14453"
        ],
        [
         "5",
         "7506"
        ],
        [
         "6",
         "3229"
        ],
        [
         "7",
         "6224"
        ],
        [
         "8",
         "886"
        ],
        [
         "9",
         "421"
        ],
        [
         "10",
         "5914"
        ],
        [
         "11",
         "505"
        ],
        [
         "12",
         "5703"
        ],
        [
         "13",
         "789"
        ],
        [
         "14",
         "4612"
        ],
        [
         "15",
         "723"
        ],
        [
         "16",
         "4399"
        ],
        [
         "17",
         "574"
        ],
        [
         "18",
         "8701"
        ],
        [
         "19",
         "2652"
        ],
        [
         "20",
         "3018"
        ],
        [
         "21",
         "853"
        ],
        [
         "22",
         "470"
        ],
        [
         "23",
         "631"
        ],
        [
         "24",
         "2473"
        ],
        [
         "25",
         "905"
        ],
        [
         "26",
         "2404"
        ],
        [
         "27",
         "1778"
        ],
        [
         "28",
         "5877"
        ],
        [
         "29",
         "945"
        ],
        [
         "30",
         "755"
        ],
        [
         "31",
         "2977"
        ],
        [
         "32",
         "2390"
        ],
        [
         "33",
         "1065"
        ],
        [
         "34",
         "1067"
        ],
        [
         "35",
         "1378"
        ],
        [
         "36",
         "730"
        ],
        [
         "37",
         "806"
        ],
        [
         "38",
         "3084"
        ],
        [
         "39",
         "791"
        ],
        [
         "40",
         "3303"
        ],
        [
         "41",
         "911"
        ],
        [
         "42",
         "523"
        ],
        [
         "43",
         "10574"
        ],
        [
         "44",
         "5105"
        ],
        [
         "45",
         "4672"
        ],
        [
         "46",
         "3625"
        ],
        [
         "47",
         "524"
        ],
        [
         "48",
         "877"
        ],
        [
         "49",
         "6342"
        ]
       ],
       "shape": {
        "columns": 1,
        "rows": 193573
       }
      },
      "text/plain": [
       "0         13619\n",
       "1         13387\n",
       "2          2772\n",
       "3           666\n",
       "4         14453\n",
       "          ...  \n",
       "193568     1130\n",
       "193569     2874\n",
       "193570     3036\n",
       "193571      681\n",
       "193572     2258\n",
       "Name: price, Length: 193573, dtype: int64"
      ]
     },
     "execution_count": 32,
     "metadata": {},
     "output_type": "execute_result"
    }
   ],
   "source": [
    "# dropping the dependent variable\n",
    "y = data[\"price\"]\n",
    "y"
   ]
  },
  {
   "cell_type": "code",
   "execution_count": 33,
   "id": "f22a6bac",
   "metadata": {},
   "outputs": [
    {
     "data": {
      "application/vnd.microsoft.datawrangler.viewer.v0+json": {
       "columns": [
        {
         "name": "index",
         "rawType": "int64",
         "type": "integer"
        },
        {
         "name": "cut",
         "rawType": "object",
         "type": "string"
        },
        {
         "name": "color",
         "rawType": "object",
         "type": "string"
        },
        {
         "name": "clarity",
         "rawType": "object",
         "type": "string"
        }
       ],
       "ref": "9466ca86-de6b-4bab-9419-172b6bb4a973",
       "rows": [
        [
         "0",
         "Premium",
         "F",
         "VS2"
        ],
        [
         "1",
         "Very Good",
         "J",
         "SI2"
        ],
        [
         "2",
         "Ideal",
         "G",
         "VS1"
        ],
        [
         "3",
         "Ideal",
         "G",
         "VS1"
        ],
        [
         "4",
         "Premium",
         "G",
         "VS2"
        ],
        [
         "5",
         "Very Good",
         "J",
         "SI1"
        ],
        [
         "6",
         "Ideal",
         "E",
         "VS2"
        ],
        [
         "7",
         "Premium",
         "G",
         "SI2"
        ],
        [
         "8",
         "Ideal",
         "F",
         "IF"
        ],
        [
         "9",
         "Good",
         "J",
         "VS1"
        ],
        [
         "10",
         "Very Good",
         "G",
         "VS2"
        ],
        [
         "11",
         "Ideal",
         "E",
         "VVS2"
        ],
        [
         "12",
         "Good",
         "D",
         "SI1"
        ],
        [
         "13",
         "Ideal",
         "G",
         "VVS1"
        ],
        [
         "14",
         "Good",
         "H",
         "SI1"
        ],
        [
         "15",
         "Premium",
         "E",
         "VS2"
        ],
        [
         "16",
         "Premium",
         "E",
         "SI2"
        ],
        [
         "17",
         "Very Good",
         "F",
         "VVS2"
        ],
        [
         "18",
         "Premium",
         "G",
         "VVS1"
        ],
        [
         "19",
         "Very Good",
         "G",
         "VS2"
        ],
        [
         "20",
         "Ideal",
         "F",
         "VS1"
        ],
        [
         "21",
         "Ideal",
         "E",
         "VS2"
        ],
        [
         "22",
         "Ideal",
         "E",
         "VS2"
        ],
        [
         "23",
         "Premium",
         "H",
         "SI1"
        ],
        [
         "24",
         "Ideal",
         "F",
         "SI1"
        ],
        [
         "25",
         "Very Good",
         "F",
         "VS1"
        ],
        [
         "26",
         "Ideal",
         "E",
         "SI1"
        ],
        [
         "27",
         "Ideal",
         "E",
         "VS1"
        ],
        [
         "28",
         "Premium",
         "D",
         "SI1"
        ],
        [
         "29",
         "Premium",
         "F",
         "SI1"
        ],
        [
         "30",
         "Ideal",
         "G",
         "SI1"
        ],
        [
         "31",
         "Fair",
         "F",
         "SI1"
        ],
        [
         "32",
         "Ideal",
         "I",
         "VS1"
        ],
        [
         "33",
         "Ideal",
         "D",
         "VS1"
        ],
        [
         "34",
         "Ideal",
         "D",
         "VS1"
        ],
        [
         "35",
         "Ideal",
         "G",
         "SI1"
        ],
        [
         "36",
         "Very Good",
         "H",
         "VVS2"
        ],
        [
         "37",
         "Ideal",
         "F",
         "VS2"
        ],
        [
         "38",
         "Very Good",
         "E",
         "SI2"
        ],
        [
         "39",
         "Ideal",
         "D",
         "SI1"
        ],
        [
         "40",
         "Very Good",
         "D",
         "VS2"
        ],
        [
         "41",
         "Ideal",
         "D",
         "VS2"
        ],
        [
         "42",
         "Ideal",
         "H",
         "VS2"
        ],
        [
         "43",
         "Very Good",
         "G",
         "SI1"
        ],
        [
         "44",
         "Premium",
         "E",
         "SI1"
        ],
        [
         "45",
         "Ideal",
         "G",
         "SI1"
        ],
        [
         "46",
         "Premium",
         "E",
         "SI1"
        ],
        [
         "47",
         "Premium",
         "F",
         "VS2"
        ],
        [
         "48",
         "Ideal",
         "G",
         "VS1"
        ],
        [
         "49",
         "Fair",
         "G",
         "VS1"
        ]
       ],
       "shape": {
        "columns": 3,
        "rows": 193573
       }
      },
      "text/html": [
       "<div>\n",
       "<style scoped>\n",
       "    .dataframe tbody tr th:only-of-type {\n",
       "        vertical-align: middle;\n",
       "    }\n",
       "\n",
       "    .dataframe tbody tr th {\n",
       "        vertical-align: top;\n",
       "    }\n",
       "\n",
       "    .dataframe thead th {\n",
       "        text-align: right;\n",
       "    }\n",
       "</style>\n",
       "<table border=\"1\" class=\"dataframe\">\n",
       "  <thead>\n",
       "    <tr style=\"text-align: right;\">\n",
       "      <th></th>\n",
       "      <th>cut</th>\n",
       "      <th>color</th>\n",
       "      <th>clarity</th>\n",
       "    </tr>\n",
       "  </thead>\n",
       "  <tbody>\n",
       "    <tr>\n",
       "      <th>0</th>\n",
       "      <td>Premium</td>\n",
       "      <td>F</td>\n",
       "      <td>VS2</td>\n",
       "    </tr>\n",
       "    <tr>\n",
       "      <th>1</th>\n",
       "      <td>Very Good</td>\n",
       "      <td>J</td>\n",
       "      <td>SI2</td>\n",
       "    </tr>\n",
       "    <tr>\n",
       "      <th>2</th>\n",
       "      <td>Ideal</td>\n",
       "      <td>G</td>\n",
       "      <td>VS1</td>\n",
       "    </tr>\n",
       "    <tr>\n",
       "      <th>3</th>\n",
       "      <td>Ideal</td>\n",
       "      <td>G</td>\n",
       "      <td>VS1</td>\n",
       "    </tr>\n",
       "    <tr>\n",
       "      <th>4</th>\n",
       "      <td>Premium</td>\n",
       "      <td>G</td>\n",
       "      <td>VS2</td>\n",
       "    </tr>\n",
       "    <tr>\n",
       "      <th>...</th>\n",
       "      <td>...</td>\n",
       "      <td>...</td>\n",
       "      <td>...</td>\n",
       "    </tr>\n",
       "    <tr>\n",
       "      <th>193568</th>\n",
       "      <td>Ideal</td>\n",
       "      <td>D</td>\n",
       "      <td>VVS2</td>\n",
       "    </tr>\n",
       "    <tr>\n",
       "      <th>193569</th>\n",
       "      <td>Premium</td>\n",
       "      <td>G</td>\n",
       "      <td>VVS2</td>\n",
       "    </tr>\n",
       "    <tr>\n",
       "      <th>193570</th>\n",
       "      <td>Very Good</td>\n",
       "      <td>F</td>\n",
       "      <td>SI1</td>\n",
       "    </tr>\n",
       "    <tr>\n",
       "      <th>193571</th>\n",
       "      <td>Very Good</td>\n",
       "      <td>D</td>\n",
       "      <td>SI1</td>\n",
       "    </tr>\n",
       "    <tr>\n",
       "      <th>193572</th>\n",
       "      <td>Good</td>\n",
       "      <td>E</td>\n",
       "      <td>SI2</td>\n",
       "    </tr>\n",
       "  </tbody>\n",
       "</table>\n",
       "<p>193573 rows × 3 columns</p>\n",
       "</div>"
      ],
      "text/plain": [
       "              cut color clarity\n",
       "0         Premium     F     VS2\n",
       "1       Very Good     J     SI2\n",
       "2           Ideal     G     VS1\n",
       "3           Ideal     G     VS1\n",
       "4         Premium     G     VS2\n",
       "...           ...   ...     ...\n",
       "193568      Ideal     D    VVS2\n",
       "193569    Premium     G    VVS2\n",
       "193570  Very Good     F     SI1\n",
       "193571  Very Good     D     SI1\n",
       "193572       Good     E     SI2\n",
       "\n",
       "[193573 rows x 3 columns]"
      ]
     },
     "execution_count": 33,
     "metadata": {},
     "output_type": "execute_result"
    }
   ],
   "source": [
    "x.select_dtypes(include=[\"object\"])"
   ]
  },
  {
   "cell_type": "code",
   "execution_count": 34,
   "id": "de9ee297",
   "metadata": {},
   "outputs": [
    {
     "data": {
      "text/plain": [
       "Index(['cut', 'color', 'clarity'], dtype='object')"
      ]
     },
     "execution_count": 34,
     "metadata": {},
     "output_type": "execute_result"
    }
   ],
   "source": [
    "x.select_dtypes(include='object').columns"
   ]
  },
  {
   "cell_type": "code",
   "execution_count": 35,
   "id": "1317b52d",
   "metadata": {},
   "outputs": [
    {
     "data": {
      "text/plain": [
       "Index(['carat', 'depth', 'table', 'x', 'y', 'z'], dtype='object')"
      ]
     },
     "execution_count": 35,
     "metadata": {},
     "output_type": "execute_result"
    }
   ],
   "source": [
    "x.select_dtypes(exclude='object').columns"
   ]
  },
  {
   "cell_type": "code",
   "execution_count": 36,
   "id": "fbcc46be",
   "metadata": {},
   "outputs": [],
   "source": [
    "categorical_cols = x.select_dtypes(include='object').columns\n",
    "numerical_cols = x.select_dtypes(exclude='object').columns"
   ]
  },
  {
   "cell_type": "code",
   "execution_count": 37,
   "id": "48353b8b",
   "metadata": {},
   "outputs": [
    {
     "data": {
      "text/plain": [
       "array(['Premium', 'Very Good', 'Ideal', 'Good', 'Fair'], dtype=object)"
      ]
     },
     "execution_count": 37,
     "metadata": {},
     "output_type": "execute_result"
    }
   ],
   "source": [
    "data[\"cut\"].unique()"
   ]
  },
  {
   "cell_type": "code",
   "execution_count": 38,
   "id": "546cd98f",
   "metadata": {},
   "outputs": [
    {
     "data": {
      "text/plain": [
       "array(['F', 'J', 'G', 'E', 'D', 'H', 'I'], dtype=object)"
      ]
     },
     "execution_count": 38,
     "metadata": {},
     "output_type": "execute_result"
    }
   ],
   "source": [
    "data[\"color\"].unique()\n"
   ]
  },
  {
   "cell_type": "code",
   "execution_count": 39,
   "id": "2a244dca",
   "metadata": {},
   "outputs": [
    {
     "data": {
      "text/plain": [
       "array(['VS2', 'SI2', 'VS1', 'SI1', 'IF', 'VVS2', 'VVS1', 'I1'],\n",
       "      dtype=object)"
      ]
     },
     "execution_count": 39,
     "metadata": {},
     "output_type": "execute_result"
    }
   ],
   "source": [
    "data[\"clarity\"].unique()"
   ]
  },
  {
   "cell_type": "code",
   "execution_count": 40,
   "id": "954567e0",
   "metadata": {},
   "outputs": [],
   "source": [
    "\n",
    "# Define the custom ranking for each ordinal variable\n",
    "cut_categories = ['Fair', 'Good', 'Very Good','Premium','Ideal']\n",
    "color_categories = ['D', 'E', 'F', 'G', 'H', 'I', 'J']\n",
    "clarity_categories = ['I1','SI2','SI1','VS2','VS1','VVS2','VVS1','IF']"
   ]
  },
  {
   "cell_type": "code",
   "execution_count": 41,
   "id": "309a6f4d",
   "metadata": {},
   "outputs": [],
   "source": [
    "from sklearn.impute import SimpleImputer ## HAndling Missing Values\n",
    "from sklearn.preprocessing import StandardScaler # HAndling Feature Scaling\n",
    "from sklearn.preprocessing import OrdinalEncoder # Ordinal Encoding\n",
    "## pipelines\n",
    "from sklearn.pipeline import Pipeline\n",
    "from sklearn.compose import ColumnTransformer"
   ]
  },
  {
   "cell_type": "code",
   "execution_count": 42,
   "id": "d66d54df",
   "metadata": {},
   "outputs": [],
   "source": [
    "#numerical pipeline\n",
    "\n",
    "\n",
    "\n",
    "\n",
    "num_pipeline=Pipeline(\n",
    "    \n",
    "    \n",
    "    steps=[\n",
    "        \n",
    "        ('imputer',SimpleImputer()),\n",
    "        ('scaler', StandardScaler())\n",
    "    ]\n",
    "    \n",
    "    \n",
    ")\n",
    "    "
   ]
  },
  {
   "cell_type": "code",
   "execution_count": 43,
   "id": "e6902ea2",
   "metadata": {},
   "outputs": [],
   "source": [
    "#catogrical pipeline \n",
    "cat_pipeline=Pipeline(\n",
    "    \n",
    "    steps=[\n",
    "        ('imputer',SimpleImputer(strategy='most_frequent')),\n",
    "        ('ordinalencoder',OrdinalEncoder(categories=[cut_categories,color_categories,clarity_categories]))\n",
    "    ]\n",
    "    \n",
    ")"
   ]
  },
  {
   "cell_type": "code",
   "execution_count": 44,
   "id": "db3f952a",
   "metadata": {},
   "outputs": [],
   "source": [
    "#transform it \n",
    "\n",
    "preprocessor=ColumnTransformer(\n",
    "    [\n",
    "        \n",
    "        ('num_pipeline',num_pipeline,numerical_cols),\n",
    "        ('cat_pipeline',cat_pipeline,categorical_cols)\n",
    "    ]\n",
    ")"
   ]
  },
  {
   "cell_type": "code",
   "execution_count": 45,
   "id": "50d169d2",
   "metadata": {},
   "outputs": [],
   "source": [
    "## Train test split\n",
    "\n",
    "from sklearn.model_selection import train_test_split\n",
    "\n",
    "x_train,x_test,y_train,y_test=train_test_split(x,y,test_size=0.30,random_state=30)"
   ]
  },
  {
   "cell_type": "code",
   "execution_count": 46,
   "id": "5a4931e9",
   "metadata": {},
   "outputs": [
    {
     "data": {
      "text/plain": [
       "array([[-0.97543926, -0.84960654, -0.12153081, ...,  4.        ,\n",
       "         5.        ,  5.        ],\n",
       "       [ 0.2351953 ,  1.83363716, -0.12153081, ...,  1.        ,\n",
       "         1.        ,  2.        ],\n",
       "       [ 0.49461699,  0.81585507,  0.39980029, ...,  3.        ,\n",
       "         3.        ,  4.        ],\n",
       "       ...,\n",
       "       [ 0.45138004,  1.55606023, -0.6428619 , ...,  1.        ,\n",
       "         3.        ,  2.        ],\n",
       "       [ 0.66756478, -1.77486298,  1.44246248, ...,  4.        ,\n",
       "         3.        ,  4.        ],\n",
       "       [ 0.25681377,  0.81585507, -0.12153081, ...,  4.        ,\n",
       "         3.        ,  2.        ]])"
      ]
     },
     "execution_count": 46,
     "metadata": {},
     "output_type": "execute_result"
    }
   ],
   "source": [
    "preprocessor.fit_transform(x_train)"
   ]
  },
  {
   "cell_type": "code",
   "execution_count": 47,
   "id": "0044eaf9",
   "metadata": {},
   "outputs": [
    {
     "data": {
      "text/plain": [
       "array([[-0.97543926, -0.84960654, -0.12153081, ...,  4.        ,\n",
       "         5.        ,  5.        ],\n",
       "       [ 0.2351953 ,  1.83363716, -0.12153081, ...,  1.        ,\n",
       "         1.        ,  2.        ],\n",
       "       [ 0.49461699,  0.81585507,  0.39980029, ...,  3.        ,\n",
       "         3.        ,  4.        ],\n",
       "       ...,\n",
       "       [ 0.45138004,  1.55606023, -0.6428619 , ...,  1.        ,\n",
       "         3.        ,  2.        ],\n",
       "       [ 0.66756478, -1.77486298,  1.44246248, ...,  4.        ,\n",
       "         3.        ,  4.        ],\n",
       "       [ 0.25681377,  0.81585507, -0.12153081, ...,  4.        ,\n",
       "         3.        ,  2.        ]])"
      ]
     },
     "execution_count": 47,
     "metadata": {},
     "output_type": "execute_result"
    }
   ],
   "source": [
    "preprocessor.transform(x_train)"
   ]
  },
  {
   "cell_type": "code",
   "execution_count": 48,
   "id": "8dad762a",
   "metadata": {},
   "outputs": [
    {
     "data": {
      "text/plain": [
       "array(['num_pipeline__carat', 'num_pipeline__depth',\n",
       "       'num_pipeline__table', 'num_pipeline__x', 'num_pipeline__y',\n",
       "       'num_pipeline__z', 'cat_pipeline__cut', 'cat_pipeline__color',\n",
       "       'cat_pipeline__clarity'], dtype=object)"
      ]
     },
     "execution_count": 48,
     "metadata": {},
     "output_type": "execute_result"
    }
   ],
   "source": [
    "preprocessor.get_feature_names_out()"
   ]
  },
  {
   "cell_type": "code",
   "execution_count": 49,
   "id": "f13c7a33",
   "metadata": {},
   "outputs": [
    {
     "data": {
      "application/vnd.microsoft.datawrangler.viewer.v0+json": {
       "columns": [
        {
         "name": "index",
         "rawType": "int64",
         "type": "integer"
        },
        {
         "name": "carat",
         "rawType": "float64",
         "type": "float"
        },
        {
         "name": "cut",
         "rawType": "object",
         "type": "string"
        },
        {
         "name": "color",
         "rawType": "object",
         "type": "string"
        },
        {
         "name": "clarity",
         "rawType": "object",
         "type": "string"
        },
        {
         "name": "depth",
         "rawType": "float64",
         "type": "float"
        },
        {
         "name": "table",
         "rawType": "float64",
         "type": "float"
        },
        {
         "name": "x",
         "rawType": "float64",
         "type": "float"
        },
        {
         "name": "y",
         "rawType": "float64",
         "type": "float"
        },
        {
         "name": "z",
         "rawType": "float64",
         "type": "float"
        }
       ],
       "ref": "7ce6e18b-cec9-4dc4-8a3d-2973535bb5bf",
       "rows": [
        [
         "168192",
         "0.34",
         "Ideal",
         "I",
         "VVS2",
         "60.9",
         "57.0",
         "4.56",
         "4.53",
         "2.76"
        ],
        [
         "35202",
         "0.9",
         "Good",
         "E",
         "SI1",
         "63.8",
         "57.0",
         "6.07",
         "6.03",
         "3.87"
        ],
        [
         "41091",
         "1.02",
         "Premium",
         "G",
         "VS1",
         "62.7",
         "58.0",
         "6.35",
         "6.39",
         "4.0"
        ],
        [
         "31239",
         "0.32",
         "Premium",
         "G",
         "VS2",
         "62.1",
         "59.0",
         "4.37",
         "4.35",
         "2.71"
        ],
        [
         "45722",
         "0.35",
         "Ideal",
         "J",
         "VVS2",
         "61.1",
         "56.0",
         "4.53",
         "4.57",
         "2.78"
        ],
        [
         "182836",
         "0.9",
         "Premium",
         "F",
         "VS2",
         "62.0",
         "57.0",
         "6.22",
         "6.15",
         "3.83"
        ],
        [
         "117929",
         "0.56",
         "Ideal",
         "G",
         "SI1",
         "60.7",
         "56.0",
         "5.31",
         "5.34",
         "3.24"
        ],
        [
         "21932",
         "1.07",
         "Ideal",
         "G",
         "VS2",
         "62.1",
         "57.0",
         "6.55",
         "6.54",
         "4.06"
        ],
        [
         "181377",
         "2.21",
         "Premium",
         "H",
         "SI1",
         "60.6",
         "60.0",
         "8.41",
         "8.34",
         "5.08"
        ],
        [
         "72488",
         "0.23",
         "Ideal",
         "F",
         "VVS1",
         "62.0",
         "57.0",
         "3.93",
         "3.95",
         "2.44"
        ],
        [
         "75686",
         "0.73",
         "Very Good",
         "D",
         "SI2",
         "63.1",
         "58.0",
         "5.76",
         "5.74",
         "3.63"
        ],
        [
         "70500",
         "2.03",
         "Ideal",
         "H",
         "SI1",
         "62.9",
         "57.0",
         "8.05",
         "8.09",
         "5.06"
        ],
        [
         "146088",
         "1.34",
         "Ideal",
         "G",
         "VS1",
         "61.9",
         "56.0",
         "7.1",
         "7.06",
         "4.38"
        ],
        [
         "8153",
         "1.01",
         "Premium",
         "F",
         "SI2",
         "61.9",
         "58.0",
         "6.38",
         "6.35",
         "3.94"
        ],
        [
         "8401",
         "0.58",
         "Ideal",
         "G",
         "VS1",
         "61.5",
         "56.0",
         "5.33",
         "5.36",
         "3.3"
        ],
        [
         "48918",
         "1.12",
         "Ideal",
         "H",
         "SI1",
         "61.5",
         "57.0",
         "6.66",
         "6.69",
         "4.1"
        ],
        [
         "55784",
         "0.39",
         "Ideal",
         "G",
         "VVS1",
         "62.4",
         "55.0",
         "4.66",
         "4.69",
         "2.91"
        ],
        [
         "185950",
         "2.01",
         "Very Good",
         "H",
         "SI2",
         "63.1",
         "57.0",
         "7.98",
         "8.03",
         "5.05"
        ],
        [
         "40311",
         "1.04",
         "Ideal",
         "I",
         "SI1",
         "62.3",
         "55.0",
         "6.5",
         "6.49",
         "4.04"
        ],
        [
         "25671",
         "1.02",
         "Premium",
         "D",
         "SI1",
         "60.2",
         "59.0",
         "6.55",
         "6.57",
         "3.94"
        ],
        [
         "155666",
         "1.02",
         "Premium",
         "E",
         "VS1",
         "61.8",
         "59.0",
         "6.39",
         "6.43",
         "3.96"
        ],
        [
         "122318",
         "0.71",
         "Ideal",
         "F",
         "VS1",
         "60.8",
         "57.0",
         "5.78",
         "5.8",
         "3.52"
        ],
        [
         "92623",
         "1.16",
         "Premium",
         "E",
         "SI1",
         "62.2",
         "59.0",
         "6.78",
         "6.7",
         "4.19"
        ],
        [
         "191927",
         "0.71",
         "Very Good",
         "D",
         "SI1",
         "63.4",
         "57.0",
         "5.68",
         "5.73",
         "3.62"
        ],
        [
         "76717",
         "1.27",
         "Ideal",
         "F",
         "SI1",
         "62.0",
         "55.0",
         "6.93",
         "6.96",
         "4.31"
        ],
        [
         "139050",
         "1.01",
         "Very Good",
         "G",
         "VS2",
         "63.2",
         "58.0",
         "6.36",
         "6.41",
         "4.02"
        ],
        [
         "181537",
         "0.91",
         "Ideal",
         "E",
         "SI1",
         "61.4",
         "57.0",
         "6.23",
         "6.26",
         "3.84"
        ],
        [
         "11330",
         "1.94",
         "Premium",
         "H",
         "VS1",
         "60.2",
         "60.0",
         "8.04",
         "7.98",
         "4.86"
        ],
        [
         "139442",
         "1.02",
         "Premium",
         "D",
         "SI1",
         "60.0",
         "61.0",
         "6.58",
         "6.56",
         "3.93"
        ],
        [
         "48497",
         "0.9",
         "Fair",
         "J",
         "VS1",
         "64.6",
         "61.0",
         "6.04",
         "6.0",
         "3.89"
        ],
        [
         "68022",
         "1.12",
         "Ideal",
         "H",
         "SI2",
         "61.8",
         "58.0",
         "6.69",
         "6.63",
         "4.11"
        ],
        [
         "31741",
         "0.71",
         "Ideal",
         "E",
         "SI2",
         "61.3",
         "57.0",
         "5.73",
         "5.77",
         "3.53"
        ],
        [
         "80897",
         "0.74",
         "Fair",
         "E",
         "SI2",
         "65.3",
         "66.0",
         "5.5",
         "5.43",
         "3.62"
        ],
        [
         "4179",
         "0.75",
         "Ideal",
         "E",
         "SI2",
         "61.5",
         "55.0",
         "5.9",
         "5.83",
         "3.61"
        ],
        [
         "142720",
         "0.41",
         "Good",
         "E",
         "SI1",
         "63.1",
         "57.0",
         "4.73",
         "4.79",
         "2.99"
        ],
        [
         "135935",
         "0.41",
         "Premium",
         "D",
         "VVS2",
         "61.3",
         "58.0",
         "4.77",
         "4.79",
         "2.93"
        ],
        [
         "188735",
         "1.21",
         "Very Good",
         "J",
         "SI1",
         "59.5",
         "58.0",
         "6.89",
         "6.94",
         "4.1"
        ],
        [
         "94183",
         "1.51",
         "Ideal",
         "G",
         "VVS2",
         "62.5",
         "57.0",
         "7.36",
         "7.3",
         "4.58"
        ],
        [
         "163189",
         "1.51",
         "Very Good",
         "F",
         "VS2",
         "61.6",
         "55.0",
         "7.36",
         "7.42",
         "4.55"
        ],
        [
         "26068",
         "0.52",
         "Ideal",
         "F",
         "SI1",
         "61.2",
         "56.0",
         "5.2",
         "5.24",
         "3.19"
        ],
        [
         "96647",
         "0.3",
         "Premium",
         "E",
         "VVS1",
         "61.2",
         "59.0",
         "4.31",
         "4.33",
         "2.64"
        ],
        [
         "160219",
         "1.28",
         "Premium",
         "J",
         "VS2",
         "62.0",
         "58.0",
         "6.92",
         "6.88",
         "4.28"
        ],
        [
         "54804",
         "0.74",
         "Ideal",
         "G",
         "VS1",
         "61.1",
         "57.0",
         "5.79",
         "5.84",
         "3.55"
        ],
        [
         "42901",
         "1.01",
         "Very Good",
         "H",
         "VS2",
         "63.0",
         "55.0",
         "6.35",
         "6.4",
         "4.02"
        ],
        [
         "44033",
         "1.57",
         "Ideal",
         "H",
         "SI1",
         "61.5",
         "58.0",
         "7.52",
         "7.56",
         "4.64"
        ],
        [
         "15843",
         "0.7",
         "Ideal",
         "G",
         "VS2",
         "61.9",
         "55.0",
         "5.72",
         "5.74",
         "3.55"
        ],
        [
         "1645",
         "0.25",
         "Very Good",
         "F",
         "VS1",
         "62.9",
         "56.0",
         "4.02",
         "4.04",
         "2.54"
        ],
        [
         "42367",
         "0.71",
         "Ideal",
         "F",
         "VS2",
         "61.7",
         "56.0",
         "5.73",
         "5.76",
         "3.54"
        ],
        [
         "5453",
         "0.92",
         "Very Good",
         "I",
         "SI1",
         "60.9",
         "61.0",
         "6.22",
         "6.25",
         "3.8"
        ],
        [
         "104001",
         "1.3",
         "Premium",
         "E",
         "SI2",
         "61.8",
         "58.0",
         "7.0",
         "6.96",
         "4.31"
        ]
       ],
       "shape": {
        "columns": 9,
        "rows": 135501
       }
      },
      "text/html": [
       "<div>\n",
       "<style scoped>\n",
       "    .dataframe tbody tr th:only-of-type {\n",
       "        vertical-align: middle;\n",
       "    }\n",
       "\n",
       "    .dataframe tbody tr th {\n",
       "        vertical-align: top;\n",
       "    }\n",
       "\n",
       "    .dataframe thead th {\n",
       "        text-align: right;\n",
       "    }\n",
       "</style>\n",
       "<table border=\"1\" class=\"dataframe\">\n",
       "  <thead>\n",
       "    <tr style=\"text-align: right;\">\n",
       "      <th></th>\n",
       "      <th>carat</th>\n",
       "      <th>cut</th>\n",
       "      <th>color</th>\n",
       "      <th>clarity</th>\n",
       "      <th>depth</th>\n",
       "      <th>table</th>\n",
       "      <th>x</th>\n",
       "      <th>y</th>\n",
       "      <th>z</th>\n",
       "    </tr>\n",
       "  </thead>\n",
       "  <tbody>\n",
       "    <tr>\n",
       "      <th>168192</th>\n",
       "      <td>0.34</td>\n",
       "      <td>Ideal</td>\n",
       "      <td>I</td>\n",
       "      <td>VVS2</td>\n",
       "      <td>60.9</td>\n",
       "      <td>57.0</td>\n",
       "      <td>4.56</td>\n",
       "      <td>4.53</td>\n",
       "      <td>2.76</td>\n",
       "    </tr>\n",
       "    <tr>\n",
       "      <th>35202</th>\n",
       "      <td>0.90</td>\n",
       "      <td>Good</td>\n",
       "      <td>E</td>\n",
       "      <td>SI1</td>\n",
       "      <td>63.8</td>\n",
       "      <td>57.0</td>\n",
       "      <td>6.07</td>\n",
       "      <td>6.03</td>\n",
       "      <td>3.87</td>\n",
       "    </tr>\n",
       "    <tr>\n",
       "      <th>41091</th>\n",
       "      <td>1.02</td>\n",
       "      <td>Premium</td>\n",
       "      <td>G</td>\n",
       "      <td>VS1</td>\n",
       "      <td>62.7</td>\n",
       "      <td>58.0</td>\n",
       "      <td>6.35</td>\n",
       "      <td>6.39</td>\n",
       "      <td>4.00</td>\n",
       "    </tr>\n",
       "    <tr>\n",
       "      <th>31239</th>\n",
       "      <td>0.32</td>\n",
       "      <td>Premium</td>\n",
       "      <td>G</td>\n",
       "      <td>VS2</td>\n",
       "      <td>62.1</td>\n",
       "      <td>59.0</td>\n",
       "      <td>4.37</td>\n",
       "      <td>4.35</td>\n",
       "      <td>2.71</td>\n",
       "    </tr>\n",
       "    <tr>\n",
       "      <th>45722</th>\n",
       "      <td>0.35</td>\n",
       "      <td>Ideal</td>\n",
       "      <td>J</td>\n",
       "      <td>VVS2</td>\n",
       "      <td>61.1</td>\n",
       "      <td>56.0</td>\n",
       "      <td>4.53</td>\n",
       "      <td>4.57</td>\n",
       "      <td>2.78</td>\n",
       "    </tr>\n",
       "    <tr>\n",
       "      <th>...</th>\n",
       "      <td>...</td>\n",
       "      <td>...</td>\n",
       "      <td>...</td>\n",
       "      <td>...</td>\n",
       "      <td>...</td>\n",
       "      <td>...</td>\n",
       "      <td>...</td>\n",
       "      <td>...</td>\n",
       "      <td>...</td>\n",
       "    </tr>\n",
       "    <tr>\n",
       "      <th>66455</th>\n",
       "      <td>0.31</td>\n",
       "      <td>Ideal</td>\n",
       "      <td>E</td>\n",
       "      <td>SI1</td>\n",
       "      <td>61.8</td>\n",
       "      <td>56.0</td>\n",
       "      <td>4.31</td>\n",
       "      <td>4.35</td>\n",
       "      <td>2.68</td>\n",
       "    </tr>\n",
       "    <tr>\n",
       "      <th>46220</th>\n",
       "      <td>1.25</td>\n",
       "      <td>Ideal</td>\n",
       "      <td>G</td>\n",
       "      <td>SI2</td>\n",
       "      <td>62.0</td>\n",
       "      <td>56.0</td>\n",
       "      <td>6.88</td>\n",
       "      <td>6.95</td>\n",
       "      <td>4.28</td>\n",
       "    </tr>\n",
       "    <tr>\n",
       "      <th>98804</th>\n",
       "      <td>1.00</td>\n",
       "      <td>Good</td>\n",
       "      <td>G</td>\n",
       "      <td>SI1</td>\n",
       "      <td>63.5</td>\n",
       "      <td>56.0</td>\n",
       "      <td>6.29</td>\n",
       "      <td>6.37</td>\n",
       "      <td>4.02</td>\n",
       "    </tr>\n",
       "    <tr>\n",
       "      <th>48045</th>\n",
       "      <td>1.10</td>\n",
       "      <td>Ideal</td>\n",
       "      <td>G</td>\n",
       "      <td>VS1</td>\n",
       "      <td>59.9</td>\n",
       "      <td>60.0</td>\n",
       "      <td>6.68</td>\n",
       "      <td>6.77</td>\n",
       "      <td>4.01</td>\n",
       "    </tr>\n",
       "    <tr>\n",
       "      <th>169765</th>\n",
       "      <td>0.91</td>\n",
       "      <td>Ideal</td>\n",
       "      <td>G</td>\n",
       "      <td>SI1</td>\n",
       "      <td>62.7</td>\n",
       "      <td>57.0</td>\n",
       "      <td>6.14</td>\n",
       "      <td>6.18</td>\n",
       "      <td>3.86</td>\n",
       "    </tr>\n",
       "  </tbody>\n",
       "</table>\n",
       "<p>135501 rows × 9 columns</p>\n",
       "</div>"
      ],
      "text/plain": [
       "        carat      cut color clarity  depth  table     x     y     z\n",
       "168192   0.34    Ideal     I    VVS2   60.9   57.0  4.56  4.53  2.76\n",
       "35202    0.90     Good     E     SI1   63.8   57.0  6.07  6.03  3.87\n",
       "41091    1.02  Premium     G     VS1   62.7   58.0  6.35  6.39  4.00\n",
       "31239    0.32  Premium     G     VS2   62.1   59.0  4.37  4.35  2.71\n",
       "45722    0.35    Ideal     J    VVS2   61.1   56.0  4.53  4.57  2.78\n",
       "...       ...      ...   ...     ...    ...    ...   ...   ...   ...\n",
       "66455    0.31    Ideal     E     SI1   61.8   56.0  4.31  4.35  2.68\n",
       "46220    1.25    Ideal     G     SI2   62.0   56.0  6.88  6.95  4.28\n",
       "98804    1.00     Good     G     SI1   63.5   56.0  6.29  6.37  4.02\n",
       "48045    1.10    Ideal     G     VS1   59.9   60.0  6.68  6.77  4.01\n",
       "169765   0.91    Ideal     G     SI1   62.7   57.0  6.14  6.18  3.86\n",
       "\n",
       "[135501 rows x 9 columns]"
      ]
     },
     "execution_count": 49,
     "metadata": {},
     "output_type": "execute_result"
    }
   ],
   "source": [
    "x_train"
   ]
  },
  {
   "cell_type": "code",
   "execution_count": 50,
   "id": "dda86b8d",
   "metadata": {},
   "outputs": [
    {
     "data": {
      "application/vnd.microsoft.datawrangler.viewer.v0+json": {
       "columns": [
        {
         "name": "index",
         "rawType": "int64",
         "type": "integer"
        },
        {
         "name": "carat",
         "rawType": "float64",
         "type": "float"
        },
        {
         "name": "cut",
         "rawType": "object",
         "type": "string"
        },
        {
         "name": "color",
         "rawType": "object",
         "type": "string"
        },
        {
         "name": "clarity",
         "rawType": "object",
         "type": "string"
        },
        {
         "name": "depth",
         "rawType": "float64",
         "type": "float"
        },
        {
         "name": "table",
         "rawType": "float64",
         "type": "float"
        },
        {
         "name": "x",
         "rawType": "float64",
         "type": "float"
        },
        {
         "name": "y",
         "rawType": "float64",
         "type": "float"
        },
        {
         "name": "z",
         "rawType": "float64",
         "type": "float"
        }
       ],
       "ref": "218bb2cb-ec2c-443d-a26b-043bc3842d3c",
       "rows": [
        [
         "70432",
         "0.53",
         "Premium",
         "E",
         "VS2",
         "60.8",
         "56.0",
         "5.24",
         "5.21",
         "3.19"
        ],
        [
         "64839",
         "0.71",
         "Very Good",
         "H",
         "SI1",
         "62.9",
         "57.0",
         "5.67",
         "5.69",
         "3.56"
        ],
        [
         "185316",
         "0.3",
         "Ideal",
         "H",
         "IF",
         "62.1",
         "57.0",
         "4.27",
         "4.29",
         "2.66"
        ],
        [
         "84658",
         "1.24",
         "Premium",
         "G",
         "VS2",
         "61.6",
         "61.0",
         "6.88",
         "6.82",
         "4.21"
        ],
        [
         "31953",
         "0.36",
         "Premium",
         "E",
         "VS1",
         "60.4",
         "58.0",
         "4.6",
         "4.63",
         "2.8"
        ],
        [
         "111121",
         "0.7",
         "Good",
         "F",
         "VS2",
         "57.1",
         "62.0",
         "5.91",
         "5.89",
         "3.38"
        ],
        [
         "40829",
         "1.04",
         "Ideal",
         "H",
         "SI1",
         "62.4",
         "57.0",
         "6.49",
         "6.52",
         "4.06"
        ],
        [
         "117717",
         "1.51",
         "Premium",
         "E",
         "VS1",
         "61.5",
         "58.0",
         "7.46",
         "7.41",
         "4.57"
        ],
        [
         "23742",
         "0.93",
         "Good",
         "D",
         "SI1",
         "63.1",
         "57.0",
         "6.16",
         "6.22",
         "3.9"
        ],
        [
         "49849",
         "1.71",
         "Very Good",
         "J",
         "VS2",
         "62.9",
         "61.0",
         "7.59",
         "7.53",
         "4.75"
        ],
        [
         "147036",
         "1.03",
         "Ideal",
         "G",
         "VVS1",
         "62.7",
         "56.0",
         "6.45",
         "6.38",
         "4.02"
        ],
        [
         "101963",
         "1.0",
         "Premium",
         "J",
         "SI2",
         "59.6",
         "62.0",
         "6.47",
         "6.44",
         "3.86"
        ],
        [
         "14972",
         "1.51",
         "Fair",
         "J",
         "SI2",
         "58.6",
         "60.0",
         "7.37",
         "7.4",
         "4.35"
        ],
        [
         "57509",
         "1.04",
         "Ideal",
         "G",
         "SI2",
         "61.8",
         "56.0",
         "6.52",
         "6.55",
         "4.04"
        ],
        [
         "103069",
         "1.01",
         "Very Good",
         "F",
         "VS2",
         "63.6",
         "56.0",
         "6.32",
         "6.37",
         "4.04"
        ],
        [
         "190687",
         "1.01",
         "Premium",
         "G",
         "VS2",
         "62.3",
         "58.0",
         "6.37",
         "6.4",
         "3.98"
        ],
        [
         "183492",
         "2.0",
         "Premium",
         "J",
         "SI1",
         "59.4",
         "61.0",
         "8.14",
         "8.09",
         "4.84"
        ],
        [
         "191701",
         "1.1",
         "Ideal",
         "G",
         "VS2",
         "59.8",
         "60.0",
         "6.66",
         "6.71",
         "4.01"
        ],
        [
         "60068",
         "0.4",
         "Ideal",
         "G",
         "VS2",
         "62.3",
         "57.0",
         "4.73",
         "4.76",
         "2.95"
        ],
        [
         "86386",
         "1.07",
         "Ideal",
         "E",
         "SI1",
         "62.0",
         "56.0",
         "6.61",
         "6.54",
         "4.08"
        ],
        [
         "45797",
         "2.0",
         "Very Good",
         "G",
         "SI2",
         "63.5",
         "60.0",
         "7.98",
         "7.93",
         "5.04"
        ],
        [
         "48410",
         "0.31",
         "Ideal",
         "H",
         "VS1",
         "62.0",
         "54.0",
         "4.34",
         "4.36",
         "2.7"
        ],
        [
         "102495",
         "1.27",
         "Premium",
         "G",
         "SI1",
         "62.2",
         "58.0",
         "6.89",
         "6.93",
         "4.29"
        ],
        [
         "142519",
         "0.4",
         "Premium",
         "E",
         "VS2",
         "60.5",
         "60.0",
         "4.74",
         "4.74",
         "2.87"
        ],
        [
         "107973",
         "0.36",
         "Ideal",
         "D",
         "VS2",
         "61.4",
         "57.0",
         "4.59",
         "4.56",
         "2.81"
        ],
        [
         "9245",
         "2.01",
         "Very Good",
         "I",
         "VS1",
         "61.9",
         "58.0",
         "8.08",
         "8.13",
         "5.01"
        ],
        [
         "192154",
         "1.52",
         "Premium",
         "G",
         "SI1",
         "62.0",
         "57.0",
         "7.36",
         "7.38",
         "4.57"
        ],
        [
         "54184",
         "1.5",
         "Very Good",
         "F",
         "VS2",
         "60.9",
         "59.0",
         "7.34",
         "7.4",
         "4.49"
        ],
        [
         "40064",
         "1.51",
         "Ideal",
         "D",
         "SI2",
         "60.9",
         "57.0",
         "7.41",
         "7.37",
         "4.5"
        ],
        [
         "122443",
         "1.5",
         "Good",
         "D",
         "SI2",
         "63.7",
         "55.0",
         "7.12",
         "7.21",
         "4.59"
        ],
        [
         "75568",
         "0.35",
         "Ideal",
         "D",
         "VS2",
         "61.1",
         "56.0",
         "4.54",
         "4.57",
         "2.78"
        ],
        [
         "10296",
         "0.83",
         "Ideal",
         "E",
         "VS1",
         "61.9",
         "58.0",
         "5.98",
         "6.04",
         "3.72"
        ],
        [
         "144255",
         "1.51",
         "Premium",
         "I",
         "SI1",
         "61.8",
         "60.0",
         "7.35",
         "7.32",
         "4.54"
        ],
        [
         "40250",
         "0.71",
         "Ideal",
         "I",
         "VS2",
         "60.9",
         "57.0",
         "5.73",
         "5.79",
         "3.51"
        ],
        [
         "153278",
         "0.7",
         "Ideal",
         "G",
         "SI1",
         "62.4",
         "56.0",
         "5.64",
         "5.67",
         "3.53"
        ],
        [
         "33764",
         "0.51",
         "Good",
         "G",
         "VS2",
         "63.7",
         "56.0",
         "5.02",
         "5.06",
         "3.22"
        ],
        [
         "177230",
         "0.91",
         "Ideal",
         "H",
         "SI1",
         "61.9",
         "56.0",
         "6.2",
         "6.27",
         "3.86"
        ],
        [
         "135738",
         "0.54",
         "Premium",
         "H",
         "VVS1",
         "62.0",
         "58.0",
         "5.17",
         "5.22",
         "3.22"
        ],
        [
         "52739",
         "0.56",
         "Premium",
         "E",
         "SI1",
         "61.3",
         "58.0",
         "5.27",
         "5.31",
         "3.25"
        ],
        [
         "19951",
         "1.11",
         "Premium",
         "G",
         "SI1",
         "62.3",
         "57.0",
         "6.65",
         "6.61",
         "4.13"
        ],
        [
         "87092",
         "0.57",
         "Ideal",
         "H",
         "SI1",
         "61.9",
         "56.0",
         "5.31",
         "5.36",
         "3.3"
        ],
        [
         "55591",
         "0.32",
         "Premium",
         "G",
         "VVS2",
         "61.2",
         "58.0",
         "4.43",
         "4.41",
         "2.7"
        ],
        [
         "111597",
         "1.01",
         "Premium",
         "H",
         "SI2",
         "62.6",
         "58.0",
         "6.37",
         "6.4",
         "4.0"
        ],
        [
         "172089",
         "1.01",
         "Premium",
         "F",
         "SI2",
         "62.7",
         "58.0",
         "6.35",
         "6.41",
         "4.0"
        ],
        [
         "102201",
         "0.9",
         "Ideal",
         "E",
         "SI1",
         "62.8",
         "55.0",
         "6.16",
         "6.18",
         "3.87"
        ],
        [
         "142251",
         "0.5",
         "Good",
         "E",
         "SI2",
         "63.6",
         "54.0",
         "5.1",
         "5.07",
         "3.24"
        ],
        [
         "92590",
         "1.07",
         "Ideal",
         "G",
         "VVS2",
         "61.9",
         "57.0",
         "6.51",
         "6.54",
         "4.05"
        ],
        [
         "112098",
         "0.35",
         "Good",
         "D",
         "SI1",
         "63.7",
         "55.0",
         "4.52",
         "4.55",
         "2.87"
        ],
        [
         "63681",
         "0.24",
         "Very Good",
         "D",
         "VVS2",
         "63.1",
         "56.0",
         "3.97",
         "4.0",
         "2.51"
        ],
        [
         "121903",
         "0.72",
         "Ideal",
         "I",
         "SI1",
         "61.0",
         "56.0",
         "5.81",
         "5.84",
         "3.55"
        ]
       ],
       "shape": {
        "columns": 9,
        "rows": 58072
       }
      },
      "text/html": [
       "<div>\n",
       "<style scoped>\n",
       "    .dataframe tbody tr th:only-of-type {\n",
       "        vertical-align: middle;\n",
       "    }\n",
       "\n",
       "    .dataframe tbody tr th {\n",
       "        vertical-align: top;\n",
       "    }\n",
       "\n",
       "    .dataframe thead th {\n",
       "        text-align: right;\n",
       "    }\n",
       "</style>\n",
       "<table border=\"1\" class=\"dataframe\">\n",
       "  <thead>\n",
       "    <tr style=\"text-align: right;\">\n",
       "      <th></th>\n",
       "      <th>carat</th>\n",
       "      <th>cut</th>\n",
       "      <th>color</th>\n",
       "      <th>clarity</th>\n",
       "      <th>depth</th>\n",
       "      <th>table</th>\n",
       "      <th>x</th>\n",
       "      <th>y</th>\n",
       "      <th>z</th>\n",
       "    </tr>\n",
       "  </thead>\n",
       "  <tbody>\n",
       "    <tr>\n",
       "      <th>70432</th>\n",
       "      <td>0.53</td>\n",
       "      <td>Premium</td>\n",
       "      <td>E</td>\n",
       "      <td>VS2</td>\n",
       "      <td>60.8</td>\n",
       "      <td>56.0</td>\n",
       "      <td>5.24</td>\n",
       "      <td>5.21</td>\n",
       "      <td>3.19</td>\n",
       "    </tr>\n",
       "    <tr>\n",
       "      <th>64839</th>\n",
       "      <td>0.71</td>\n",
       "      <td>Very Good</td>\n",
       "      <td>H</td>\n",
       "      <td>SI1</td>\n",
       "      <td>62.9</td>\n",
       "      <td>57.0</td>\n",
       "      <td>5.67</td>\n",
       "      <td>5.69</td>\n",
       "      <td>3.56</td>\n",
       "    </tr>\n",
       "    <tr>\n",
       "      <th>185316</th>\n",
       "      <td>0.30</td>\n",
       "      <td>Ideal</td>\n",
       "      <td>H</td>\n",
       "      <td>IF</td>\n",
       "      <td>62.1</td>\n",
       "      <td>57.0</td>\n",
       "      <td>4.27</td>\n",
       "      <td>4.29</td>\n",
       "      <td>2.66</td>\n",
       "    </tr>\n",
       "    <tr>\n",
       "      <th>84658</th>\n",
       "      <td>1.24</td>\n",
       "      <td>Premium</td>\n",
       "      <td>G</td>\n",
       "      <td>VS2</td>\n",
       "      <td>61.6</td>\n",
       "      <td>61.0</td>\n",
       "      <td>6.88</td>\n",
       "      <td>6.82</td>\n",
       "      <td>4.21</td>\n",
       "    </tr>\n",
       "    <tr>\n",
       "      <th>31953</th>\n",
       "      <td>0.36</td>\n",
       "      <td>Premium</td>\n",
       "      <td>E</td>\n",
       "      <td>VS1</td>\n",
       "      <td>60.4</td>\n",
       "      <td>58.0</td>\n",
       "      <td>4.60</td>\n",
       "      <td>4.63</td>\n",
       "      <td>2.80</td>\n",
       "    </tr>\n",
       "    <tr>\n",
       "      <th>...</th>\n",
       "      <td>...</td>\n",
       "      <td>...</td>\n",
       "      <td>...</td>\n",
       "      <td>...</td>\n",
       "      <td>...</td>\n",
       "      <td>...</td>\n",
       "      <td>...</td>\n",
       "      <td>...</td>\n",
       "      <td>...</td>\n",
       "    </tr>\n",
       "    <tr>\n",
       "      <th>192694</th>\n",
       "      <td>1.26</td>\n",
       "      <td>Very Good</td>\n",
       "      <td>H</td>\n",
       "      <td>VS2</td>\n",
       "      <td>63.1</td>\n",
       "      <td>56.0</td>\n",
       "      <td>6.83</td>\n",
       "      <td>6.87</td>\n",
       "      <td>4.33</td>\n",
       "    </tr>\n",
       "    <tr>\n",
       "      <th>133935</th>\n",
       "      <td>0.33</td>\n",
       "      <td>Ideal</td>\n",
       "      <td>F</td>\n",
       "      <td>VVS1</td>\n",
       "      <td>62.1</td>\n",
       "      <td>55.0</td>\n",
       "      <td>4.45</td>\n",
       "      <td>4.48</td>\n",
       "      <td>2.77</td>\n",
       "    </tr>\n",
       "    <tr>\n",
       "      <th>44763</th>\n",
       "      <td>0.70</td>\n",
       "      <td>Premium</td>\n",
       "      <td>J</td>\n",
       "      <td>VS2</td>\n",
       "      <td>58.2</td>\n",
       "      <td>60.0</td>\n",
       "      <td>5.83</td>\n",
       "      <td>5.80</td>\n",
       "      <td>3.38</td>\n",
       "    </tr>\n",
       "    <tr>\n",
       "      <th>29856</th>\n",
       "      <td>0.41</td>\n",
       "      <td>Ideal</td>\n",
       "      <td>G</td>\n",
       "      <td>SI1</td>\n",
       "      <td>61.6</td>\n",
       "      <td>57.0</td>\n",
       "      <td>4.77</td>\n",
       "      <td>4.75</td>\n",
       "      <td>2.93</td>\n",
       "    </tr>\n",
       "    <tr>\n",
       "      <th>62426</th>\n",
       "      <td>2.00</td>\n",
       "      <td>Premium</td>\n",
       "      <td>J</td>\n",
       "      <td>VS2</td>\n",
       "      <td>61.0</td>\n",
       "      <td>60.0</td>\n",
       "      <td>8.09</td>\n",
       "      <td>7.97</td>\n",
       "      <td>4.92</td>\n",
       "    </tr>\n",
       "  </tbody>\n",
       "</table>\n",
       "<p>58072 rows × 9 columns</p>\n",
       "</div>"
      ],
      "text/plain": [
       "        carat        cut color clarity  depth  table     x     y     z\n",
       "70432    0.53    Premium     E     VS2   60.8   56.0  5.24  5.21  3.19\n",
       "64839    0.71  Very Good     H     SI1   62.9   57.0  5.67  5.69  3.56\n",
       "185316   0.30      Ideal     H      IF   62.1   57.0  4.27  4.29  2.66\n",
       "84658    1.24    Premium     G     VS2   61.6   61.0  6.88  6.82  4.21\n",
       "31953    0.36    Premium     E     VS1   60.4   58.0  4.60  4.63  2.80\n",
       "...       ...        ...   ...     ...    ...    ...   ...   ...   ...\n",
       "192694   1.26  Very Good     H     VS2   63.1   56.0  6.83  6.87  4.33\n",
       "133935   0.33      Ideal     F    VVS1   62.1   55.0  4.45  4.48  2.77\n",
       "44763    0.70    Premium     J     VS2   58.2   60.0  5.83  5.80  3.38\n",
       "29856    0.41      Ideal     G     SI1   61.6   57.0  4.77  4.75  2.93\n",
       "62426    2.00    Premium     J     VS2   61.0   60.0  8.09  7.97  4.92\n",
       "\n",
       "[58072 rows x 9 columns]"
      ]
     },
     "execution_count": 50,
     "metadata": {},
     "output_type": "execute_result"
    }
   ],
   "source": [
    "x_test"
   ]
  },
  {
   "cell_type": "code",
   "execution_count": 51,
   "id": "fa7016de",
   "metadata": {},
   "outputs": [
    {
     "data": {
      "application/vnd.microsoft.datawrangler.viewer.v0+json": {
       "columns": [
        {
         "name": "index",
         "rawType": "int64",
         "type": "integer"
        },
        {
         "name": "price",
         "rawType": "int64",
         "type": "integer"
        }
       ],
       "ref": "f0ff45f0-84d4-4a29-be7f-04124bc446ef",
       "rows": [
        [
         "168192",
         "765"
        ],
        [
         "35202",
         "4763"
        ],
        [
         "41091",
         "6139"
        ],
        [
         "31239",
         "720"
        ],
        [
         "45722",
         "774"
        ],
        [
         "182836",
         "4155"
        ],
        [
         "117929",
         "1662"
        ],
        [
         "21932",
         "6686"
        ],
        [
         "181377",
         "17168"
        ],
        [
         "72488",
         "530"
        ],
        [
         "75686",
         "2215"
        ],
        [
         "70500",
         "17640"
        ],
        [
         "146088",
         "11108"
        ],
        [
         "8153",
         "3958"
        ],
        [
         "8401",
         "2066"
        ],
        [
         "48918",
         "5148"
        ],
        [
         "55784",
         "1095"
        ],
        [
         "185950",
         "13550"
        ],
        [
         "40311",
         "4276"
        ],
        [
         "25671",
         "5708"
        ],
        [
         "155666",
         "8852"
        ],
        [
         "122318",
         "2925"
        ],
        [
         "92623",
         "6495"
        ],
        [
         "191927",
         "2699"
        ],
        [
         "76717",
         "7950"
        ],
        [
         "139050",
         "5824"
        ],
        [
         "181537",
         "4258"
        ],
        [
         "11330",
         "17096"
        ],
        [
         "139442",
         "6945"
        ],
        [
         "48497",
         "3348"
        ],
        [
         "68022",
         "4675"
        ],
        [
         "31741",
         "2683"
        ],
        [
         "80897",
         "2617"
        ],
        [
         "4179",
         "2302"
        ],
        [
         "142720",
         "705"
        ],
        [
         "135935",
         "1295"
        ],
        [
         "188735",
         "5259"
        ],
        [
         "94183",
         "13278"
        ],
        [
         "163189",
         "13659"
        ],
        [
         "26068",
         "1397"
        ],
        [
         "96647",
         "858"
        ],
        [
         "160219",
         "4788"
        ],
        [
         "54804",
         "2956"
        ],
        [
         "42901",
         "5412"
        ],
        [
         "44033",
         "10126"
        ],
        [
         "15843",
         "3074"
        ],
        [
         "1645",
         "436"
        ],
        [
         "42367",
         "2810"
        ],
        [
         "5453",
         "3438"
        ],
        [
         "104001",
         "6522"
        ]
       ],
       "shape": {
        "columns": 1,
        "rows": 135501
       }
      },
      "text/plain": [
       "168192     765\n",
       "35202     4763\n",
       "41091     6139\n",
       "31239      720\n",
       "45722      774\n",
       "          ... \n",
       "66455      544\n",
       "46220     5694\n",
       "98804     4563\n",
       "48045     6998\n",
       "169765    4922\n",
       "Name: price, Length: 135501, dtype: int64"
      ]
     },
     "execution_count": 51,
     "metadata": {},
     "output_type": "execute_result"
    }
   ],
   "source": [
    "y_train"
   ]
  },
  {
   "cell_type": "code",
   "execution_count": 52,
   "id": "434aad07",
   "metadata": {},
   "outputs": [
    {
     "data": {
      "application/vnd.microsoft.datawrangler.viewer.v0+json": {
       "columns": [
        {
         "name": "index",
         "rawType": "int64",
         "type": "integer"
        },
        {
         "name": "price",
         "rawType": "int64",
         "type": "integer"
        }
       ],
       "ref": "fa2133d8-75a9-486c-abe8-a5d5992d326f",
       "rows": [
        [
         "70432",
         "1607"
        ],
        [
         "64839",
         "2211"
        ],
        [
         "185316",
         "764"
        ],
        [
         "84658",
         "7655"
        ],
        [
         "31953",
         "735"
        ],
        [
         "111121",
         "3043"
        ],
        [
         "40829",
         "4925"
        ],
        [
         "117717",
         "16530"
        ],
        [
         "23742",
         "5101"
        ],
        [
         "49849",
         "8538"
        ],
        [
         "147036",
         "6733"
        ],
        [
         "101963",
         "3180"
        ],
        [
         "14972",
         "5832"
        ],
        [
         "57509",
         "4429"
        ],
        [
         "103069",
         "6532"
        ],
        [
         "190687",
         "5636"
        ],
        [
         "183492",
         "13200"
        ],
        [
         "191701",
         "6393"
        ],
        [
         "60068",
         "926"
        ],
        [
         "86386",
         "5729"
        ],
        [
         "45797",
         "15030"
        ],
        [
         "48410",
         "698"
        ],
        [
         "102495",
         "6495"
        ],
        [
         "142519",
         "975"
        ],
        [
         "107973",
         "863"
        ],
        [
         "9245",
         "17569"
        ],
        [
         "192154",
         "11272"
        ],
        [
         "54184",
         "14157"
        ],
        [
         "40064",
         "10817"
        ],
        [
         "122443",
         "8869"
        ],
        [
         "75568",
         "846"
        ],
        [
         "10296",
         "3675"
        ],
        [
         "144255",
         "7154"
        ],
        [
         "40250",
         "2428"
        ],
        [
         "153278",
         "2517"
        ],
        [
         "33764",
         "1422"
        ],
        [
         "177230",
         "3881"
        ],
        [
         "135738",
         "1846"
        ],
        [
         "52739",
         "1607"
        ],
        [
         "19951",
         "4961"
        ],
        [
         "87092",
         "1290"
        ],
        [
         "55591",
         "936"
        ],
        [
         "111597",
         "3030"
        ],
        [
         "172089",
         "3864"
        ],
        [
         "102201",
         "3990"
        ],
        [
         "142251",
         "1140"
        ],
        [
         "92590",
         "8458"
        ],
        [
         "112098",
         "756"
        ],
        [
         "63681",
         "478"
        ],
        [
         "121903",
         "2329"
        ]
       ],
       "shape": {
        "columns": 1,
        "rows": 58072
       }
      },
      "text/plain": [
       "70432      1607\n",
       "64839      2211\n",
       "185316      764\n",
       "84658      7655\n",
       "31953       735\n",
       "          ...  \n",
       "192694     5785\n",
       "133935      914\n",
       "44763      2010\n",
       "29856       923\n",
       "62426     14344\n",
       "Name: price, Length: 58072, dtype: int64"
      ]
     },
     "execution_count": 52,
     "metadata": {},
     "output_type": "execute_result"
    }
   ],
   "source": [
    "y_test"
   ]
  },
  {
   "cell_type": "code",
   "execution_count": 53,
   "id": "d468a314",
   "metadata": {},
   "outputs": [
    {
     "data": {
      "text/plain": [
       "array(['num_pipeline__carat', 'num_pipeline__depth',\n",
       "       'num_pipeline__table', 'num_pipeline__x', 'num_pipeline__y',\n",
       "       'num_pipeline__z', 'cat_pipeline__cut', 'cat_pipeline__color',\n",
       "       'cat_pipeline__clarity'], dtype=object)"
      ]
     },
     "execution_count": 53,
     "metadata": {},
     "output_type": "execute_result"
    }
   ],
   "source": [
    "\n",
    "preprocessor.get_feature_names_out()"
   ]
  },
  {
   "cell_type": "code",
   "execution_count": 54,
   "id": "8d20afed",
   "metadata": {},
   "outputs": [],
   "source": [
    "\n",
    "x_train=pd.DataFrame(preprocessor.fit_transform(x_train),columns=preprocessor.get_feature_names_out())\n",
    "X_test=pd.DataFrame(preprocessor.transform(x_test),columns=preprocessor.get_feature_names_out())\n"
   ]
  },
  {
   "cell_type": "code",
   "execution_count": 55,
   "id": "4c999438",
   "metadata": {},
   "outputs": [
    {
     "data": {
      "application/vnd.microsoft.datawrangler.viewer.v0+json": {
       "columns": [
        {
         "name": "index",
         "rawType": "int64",
         "type": "integer"
        },
        {
         "name": "num_pipeline__carat",
         "rawType": "float64",
         "type": "float"
        },
        {
         "name": "num_pipeline__depth",
         "rawType": "float64",
         "type": "float"
        },
        {
         "name": "num_pipeline__table",
         "rawType": "float64",
         "type": "float"
        },
        {
         "name": "num_pipeline__x",
         "rawType": "float64",
         "type": "float"
        },
        {
         "name": "num_pipeline__y",
         "rawType": "float64",
         "type": "float"
        },
        {
         "name": "num_pipeline__z",
         "rawType": "float64",
         "type": "float"
        },
        {
         "name": "cat_pipeline__cut",
         "rawType": "float64",
         "type": "float"
        },
        {
         "name": "cat_pipeline__color",
         "rawType": "float64",
         "type": "float"
        },
        {
         "name": "cat_pipeline__clarity",
         "rawType": "float64",
         "type": "float"
        }
       ],
       "ref": "0fee8570-49d7-4c50-8d94-535ae6009dd5",
       "rows": [
        [
         "0",
         "-0.9754392620015093",
         "-0.8496065360358279",
         "-0.12153080748688164",
         "-1.0427569225364055",
         "-1.0809700715755777",
         "-1.1231499959195892",
         "4.0",
         "5.0",
         "5.0"
        ],
        [
         "1",
         "0.23519529865162056",
         "1.8336371605863302",
         "-0.12153080748688164",
         "0.3184465459781106",
         "0.2798593093135895",
         "0.4853538459515416",
         "1.0",
         "1.0",
         "2.0"
        ],
        [
         "2",
         "0.4946169902201484",
         "0.815855068764137",
         "0.39980028694223674",
         "0.5708551361662321",
         "0.6064583607269891",
         "0.6737371787832954",
         "3.0",
         "3.0",
         "4.0"
        ],
        [
         "3",
         "-1.018676210596264",
         "0.2607012004974821",
         "0.9211313813713551",
         "-1.2140341801640593",
         "-1.2442695972822784",
         "-1.195605123931802",
         "3.0",
         "3.0",
         "3.0"
        ],
        [
         "4",
         "-0.953820787704132",
         "-0.6645552466136073",
         "-0.642861901916",
         "-1.0698007000565608",
         "-1.0446812880851999",
         "-1.094167944714704",
         "4.0",
         "6.0",
         "5.0"
        ],
        [
         "5",
         "0.23519529865162056",
         "0.16817555578637183",
         "-0.12153080748688164",
         "0.45366543357888983",
         "0.38872565978472295",
         "0.42738974354177106",
         "3.0",
         "2.0",
         "3.0"
        ],
        [
         "6",
         "-0.4998328274592082",
         "-1.0346578254580419",
         "-0.642861901916",
         "-0.3666624845325071",
         "-0.34612220589542775",
         "-0.427580767002343",
         "4.0",
         "3.0",
         "2.0"
        ],
        [
         "7",
         "0.602709361707035",
         "0.2607012004974821",
         "-0.12153080748688164",
         "0.7511469863006052",
         "0.7425412988159061",
         "0.7606833323979506",
         "4.0",
         "3.0",
         "3.0"
        ],
        [
         "8",
         "3.067215431608049",
         "-1.127183470169152",
         "1.4424624758004734",
         "2.4278611925502736",
         "2.3755365558829067",
         "2.238767943847098",
         "3.0",
         "4.0",
         "2.0"
        ],
        [
         "9",
         "-1.21324247927266",
         "0.16817555578637183",
         "-0.12153080748688164",
         "-1.6106762504596797",
         "-1.6071574321860558",
         "-1.5868628151977526",
         "4.0",
         "2.0",
         "6.0"
        ],
        [
         "10",
         "-0.13231876440379395",
         "1.1859576476085716",
         "0.39980028694223674",
         "0.03899417826983213",
         "0.016765629008350474",
         "0.13756923149291853",
         "2.0",
         "0.0",
         "1.0"
        ],
        [
         "11",
         "2.678082894255257",
         "1.000906358186351",
         "-0.12153080748688164",
         "2.103335862308403",
         "2.1487316590680456",
         "2.2097858926422123",
         "4.0",
         "4.0",
         "2.0"
        ],
        [
         "12",
         "1.1864081677362228",
         "0.07564991107526157",
         "-0.642861901916",
         "1.2469495741701306",
         "1.2142954841908171",
         "1.2243961516761146",
         "4.0",
         "3.0",
         "4.0"
        ],
        [
         "13",
         "0.47299851592277103",
         "0.07564991107526157",
         "0.39980028694223674",
         "0.5978989136863883",
         "0.5701695772366113",
         "0.5867910251686397",
         "3.0",
         "2.0",
         "1.0"
        ],
        [
         "14",
         "-0.45659587886445374",
         "-0.2944526677691729",
         "-0.642861901916",
         "-0.34863329951906935",
         "-0.32797781415023847",
         "-0.3406346133876879",
         "4.0",
         "3.0",
         "4.0"
        ],
        [
         "15",
         "0.7108017331939218",
         "-0.2944526677691729",
         "-0.12153080748688164",
         "0.8503075038745106",
         "0.8786242369048232",
         "0.8186474348077211",
         "4.0",
         "4.0",
         "2.0"
        ],
        [
         "16",
         "-0.8673468905146227",
         "0.5382781346308063",
         "-1.1641929963451183",
         "-0.9526109974692186",
         "-0.9358149376140664",
         "-0.9057846118829495",
         "4.0",
         "3.0",
         "6.0"
        ],
        [
         "17",
         "2.6348459456605022",
         "1.1859576476085716",
         "-0.12153080748688164",
         "2.040233714761372",
         "2.0942984838324783",
         "2.19529486703977",
         "2.0",
         "4.0",
         "1.0"
        ],
        [
         "18",
         "0.5378539388149031",
         "0.445752489919696",
         "-1.1641929963451183",
         "0.7060740237670121",
         "0.6971803194529341",
         "0.731701281193066",
         "4.0",
         "5.0",
         "2.0"
        ],
        [
         "19",
         "0.4946169902201484",
         "-1.4972860490135866",
         "0.9211313813713551",
         "0.7511469863006052",
         "0.7697578864336897",
         "0.5867910251686397",
         "3.0",
         "0.0",
         "2.0"
        ],
        [
         "20",
         "0.4946169902201484",
         "-0.016875733635848687",
         "0.9211313813713551",
         "0.6069135061931067",
         "0.6427471442173669",
         "0.615773076373525",
         "3.0",
         "1.0",
         "4.0"
        ],
        [
         "21",
         "-0.1755557129985486",
         "-0.9421321807469382",
         "-0.12153080748688164",
         "0.057023363283269846",
         "0.07119880424391681",
         "-0.02183205013395007",
         "4.0",
         "2.0",
         "4.0"
        ],
        [
         "22",
         "0.7972756303834306",
         "0.3532268452085924",
         "0.9211313813713551",
         "0.9584826139551345",
         "0.8876964327774175",
         "0.9490666652297057",
         "3.0",
         "1.0",
         "2.0"
        ],
        [
         "23",
         "-0.1755557129985486",
         "1.4635345817418957",
         "-0.12153080748688164",
         "-0.03312256178391709",
         "0.007693433135756218",
         "0.12307820589047622",
         "2.0",
         "0.0",
         "2.0"
        ],
        [
         "24",
         "1.0350788476545814",
         "0.16817555578637183",
         "-1.1641929963451183",
         "1.0937015015559137",
         "1.1235735254648729",
         "1.1229589724590159",
         "4.0",
         "2.0",
         "2.0"
        ],
        [
         "25",
         "0.47299851592277103",
         "1.2784832923196818",
         "0.39980028694223674",
         "0.5798697286729514",
         "0.6246027524721784",
         "0.70271922998818",
         "2.0",
         "3.0",
         "3.0"
        ],
        [
         "26",
         "0.25681377294899793",
         "-0.38697831248028314",
         "-0.12153080748688164",
         "0.46268002608560904",
         "0.48851981438326136",
         "0.44188076914421337",
         "4.0",
         "1.0",
         "2.0"
        ],
        [
         "27",
         "2.4835166255788614",
         "-1.4972860490135866",
         "1.4424624758004734",
         "2.0943212698016827",
         "2.048937504469507",
         "1.9199653805933607",
         "3.0",
         "4.0",
         "4.0"
        ],
        [
         "28",
         "0.4946169902201484",
         "-1.6823373384358071",
         "1.9637935702295917",
         "0.7781907638207614",
         "0.7606856905610947",
         "0.5722999995661974",
         "3.0",
         "0.0",
         "2.0"
        ],
        [
         "29",
         "0.23519529865162056",
         "2.573842318275199",
         "1.9637935702295917",
         "0.29140276845795443",
         "0.2526427216958059",
         "0.5143358971564268",
         "0.0",
         "6.0",
         "4.0"
        ],
        [
         "30",
         "0.7108017331939218",
         "-0.016875733635848687",
         "0.39980028694223674",
         "0.8773512813946668",
         "0.824191061669256",
         "0.8331384604101647",
         "4.0",
         "4.0",
         "1.0"
        ],
        [
         "31",
         "-0.1755557129985486",
         "-0.47950395719139344",
         "-0.12153080748688164",
         "0.011950400749676774",
         "0.04398221662613324",
         "-0.007341024531507763",
         "4.0",
         "1.0",
         "1.0"
        ],
        [
         "32",
         "-0.11070029010641659",
         "3.2215218312529643",
         "4.570449042375183",
         "-0.19538522690485247",
         "-0.2644724430420779",
         "0.12307820589047622",
         "0.0",
         "1.0",
         "1.0"
        ],
        [
         "33",
         "-0.08908181580903926",
         "-0.2944526677691729",
         "-1.1641929963451183",
         "0.16519847336389368",
         "0.09841539186170038",
         "0.10858718028803326",
         "4.0",
         "1.0",
         "1.0"
        ],
        [
         "34",
         "-0.8241099419198682",
         "1.1859576476085716",
         "-0.12153080748688164",
         "-0.8895088499221878",
         "-0.8450929788881223",
         "-0.7898564070634084",
         "1.0",
         "1.0",
         "2.0"
        ],
        [
         "35",
         "-0.8241099419198682",
         "-0.47950395719139344",
         "0.39980028694223674",
         "-0.853450479895314",
         "-0.8450929788881223",
         "-0.8768025606780642",
         "3.0",
         "0.0",
         "5.0"
        ],
        [
         "36",
         "0.9053680018703173",
         "-2.1449655619913517",
         "0.39980028694223674",
         "1.057643131529039",
         "1.1054291337196844",
         "0.8186474348077211",
         "2.0",
         "6.0",
         "2.0"
        ],
        [
         "37",
         "1.553922230791637",
         "0.6308037793419166",
         "-0.12153080748688164",
         "1.4813289793448159",
         "1.432028185133084",
         "1.5142166637249672",
         "4.0",
         "3.0",
         "5.0"
        ],
        [
         "38",
         "1.553922230791637",
         "-0.20192702305806262",
         "-1.1641929963451183",
         "1.4813289793448159",
         "1.5408945356042174",
         "1.470743586917639",
         "2.0",
         "2.0",
         "3.0"
        ],
        [
         "39",
         "-0.5863067246487176",
         "-0.5720296019024971",
         "-0.642861901916",
         "-0.4658230021064117",
         "-0.43684416462137193",
         "-0.5000358950145565",
         "4.0",
         "2.0",
         "2.0"
        ],
        [
         "40",
         "-1.0619131591910187",
         "-0.5720296019024971",
         "0.9211313813713551",
         "-1.2681217352043717",
         "-1.2624139890274668",
         "-1.2970423031489",
         "3.0",
         "1.0",
         "6.0"
        ],
        [
         "41",
         "1.0566973219519586",
         "0.16817555578637183",
         "0.39980028694223674",
         "1.084686909049195",
         "1.0509959584841173",
         "1.079485895651689",
         "3.0",
         "6.0",
         "3.0"
        ],
        [
         "42",
         "-0.11070029010641659",
         "-0.6645552466136073",
         "-0.12153080748688164",
         "0.06603795578998829",
         "0.10748758773429463",
         "0.021641026673377493",
         "4.0",
         "3.0",
         "4.0"
        ],
        [
         "43",
         "0.47299851592277103",
         "1.0934320028974613",
         "-1.1641929963451183",
         "0.5708551361662321",
         "0.6155305565995842",
         "0.70271922998818",
         "2.0",
         "4.0",
         "3.0"
        ],
        [
         "44",
         "1.683633076575901",
         "-0.2944526677691729",
         "0.39980028694223674",
         "1.6255624594523137",
         "1.6679052778205394",
         "1.6011628173396224",
         "4.0",
         "4.0",
         "2.0"
        ],
        [
         "45",
         "-0.19717418729592595",
         "0.07564991107526157",
         "-1.1641929963451183",
         "0.0029358082429575194",
         "0.016765629008350474",
         "0.021641026673377493",
         "4.0",
         "3.0",
         "3.0"
        ],
        [
         "46",
         "-1.1700055306779051",
         "1.000906358186351",
         "-0.642861901916",
         "-1.5295449178992124",
         "-1.5255076693327059",
         "-1.4419525591733264",
         "2.0",
         "2.0",
         "4.0"
        ],
        [
         "47",
         "-0.1755557129985486",
         "-0.10940137834695238",
         "-0.642861901916",
         "0.011950400749676774",
         "0.03491002075353898",
         "0.007150001070935186",
         "4.0",
         "2.0",
         "3.0"
        ],
        [
         "48",
         "0.2784322472463753",
         "-0.8496065360358279",
         "1.9637935702295917",
         "0.45366543357888983",
         "0.47944761851066714",
         "0.38391666673444286",
         "2.0",
         "5.0",
         "2.0"
        ],
        [
         "49",
         "1.0999342705467134",
         "-0.016875733635848687",
         "0.39980028694223674",
         "1.1568036491029443",
         "1.1235735254648729",
         "1.1229589724590159",
         "3.0",
         "1.0",
         "1.0"
        ]
       ],
       "shape": {
        "columns": 9,
        "rows": 135501
       }
      },
      "text/html": [
       "<div>\n",
       "<style scoped>\n",
       "    .dataframe tbody tr th:only-of-type {\n",
       "        vertical-align: middle;\n",
       "    }\n",
       "\n",
       "    .dataframe tbody tr th {\n",
       "        vertical-align: top;\n",
       "    }\n",
       "\n",
       "    .dataframe thead th {\n",
       "        text-align: right;\n",
       "    }\n",
       "</style>\n",
       "<table border=\"1\" class=\"dataframe\">\n",
       "  <thead>\n",
       "    <tr style=\"text-align: right;\">\n",
       "      <th></th>\n",
       "      <th>num_pipeline__carat</th>\n",
       "      <th>num_pipeline__depth</th>\n",
       "      <th>num_pipeline__table</th>\n",
       "      <th>num_pipeline__x</th>\n",
       "      <th>num_pipeline__y</th>\n",
       "      <th>num_pipeline__z</th>\n",
       "      <th>cat_pipeline__cut</th>\n",
       "      <th>cat_pipeline__color</th>\n",
       "      <th>cat_pipeline__clarity</th>\n",
       "    </tr>\n",
       "  </thead>\n",
       "  <tbody>\n",
       "    <tr>\n",
       "      <th>0</th>\n",
       "      <td>-0.975439</td>\n",
       "      <td>-0.849607</td>\n",
       "      <td>-0.121531</td>\n",
       "      <td>-1.042757</td>\n",
       "      <td>-1.080970</td>\n",
       "      <td>-1.123150</td>\n",
       "      <td>4.0</td>\n",
       "      <td>5.0</td>\n",
       "      <td>5.0</td>\n",
       "    </tr>\n",
       "    <tr>\n",
       "      <th>1</th>\n",
       "      <td>0.235195</td>\n",
       "      <td>1.833637</td>\n",
       "      <td>-0.121531</td>\n",
       "      <td>0.318447</td>\n",
       "      <td>0.279859</td>\n",
       "      <td>0.485354</td>\n",
       "      <td>1.0</td>\n",
       "      <td>1.0</td>\n",
       "      <td>2.0</td>\n",
       "    </tr>\n",
       "    <tr>\n",
       "      <th>2</th>\n",
       "      <td>0.494617</td>\n",
       "      <td>0.815855</td>\n",
       "      <td>0.399800</td>\n",
       "      <td>0.570855</td>\n",
       "      <td>0.606458</td>\n",
       "      <td>0.673737</td>\n",
       "      <td>3.0</td>\n",
       "      <td>3.0</td>\n",
       "      <td>4.0</td>\n",
       "    </tr>\n",
       "    <tr>\n",
       "      <th>3</th>\n",
       "      <td>-1.018676</td>\n",
       "      <td>0.260701</td>\n",
       "      <td>0.921131</td>\n",
       "      <td>-1.214034</td>\n",
       "      <td>-1.244270</td>\n",
       "      <td>-1.195605</td>\n",
       "      <td>3.0</td>\n",
       "      <td>3.0</td>\n",
       "      <td>3.0</td>\n",
       "    </tr>\n",
       "    <tr>\n",
       "      <th>4</th>\n",
       "      <td>-0.953821</td>\n",
       "      <td>-0.664555</td>\n",
       "      <td>-0.642862</td>\n",
       "      <td>-1.069801</td>\n",
       "      <td>-1.044681</td>\n",
       "      <td>-1.094168</td>\n",
       "      <td>4.0</td>\n",
       "      <td>6.0</td>\n",
       "      <td>5.0</td>\n",
       "    </tr>\n",
       "    <tr>\n",
       "      <th>...</th>\n",
       "      <td>...</td>\n",
       "      <td>...</td>\n",
       "      <td>...</td>\n",
       "      <td>...</td>\n",
       "      <td>...</td>\n",
       "      <td>...</td>\n",
       "      <td>...</td>\n",
       "      <td>...</td>\n",
       "      <td>...</td>\n",
       "    </tr>\n",
       "    <tr>\n",
       "      <th>135496</th>\n",
       "      <td>-1.040295</td>\n",
       "      <td>-0.016876</td>\n",
       "      <td>-0.642862</td>\n",
       "      <td>-1.268122</td>\n",
       "      <td>-1.244270</td>\n",
       "      <td>-1.239078</td>\n",
       "      <td>4.0</td>\n",
       "      <td>1.0</td>\n",
       "      <td>2.0</td>\n",
       "    </tr>\n",
       "    <tr>\n",
       "      <th>135497</th>\n",
       "      <td>0.991842</td>\n",
       "      <td>0.168176</td>\n",
       "      <td>-0.642862</td>\n",
       "      <td>1.048629</td>\n",
       "      <td>1.114501</td>\n",
       "      <td>1.079486</td>\n",
       "      <td>4.0</td>\n",
       "      <td>3.0</td>\n",
       "      <td>1.0</td>\n",
       "    </tr>\n",
       "    <tr>\n",
       "      <th>135498</th>\n",
       "      <td>0.451380</td>\n",
       "      <td>1.556060</td>\n",
       "      <td>-0.642862</td>\n",
       "      <td>0.516768</td>\n",
       "      <td>0.588314</td>\n",
       "      <td>0.702719</td>\n",
       "      <td>1.0</td>\n",
       "      <td>3.0</td>\n",
       "      <td>2.0</td>\n",
       "    </tr>\n",
       "    <tr>\n",
       "      <th>135499</th>\n",
       "      <td>0.667565</td>\n",
       "      <td>-1.774863</td>\n",
       "      <td>1.442462</td>\n",
       "      <td>0.868337</td>\n",
       "      <td>0.951202</td>\n",
       "      <td>0.688228</td>\n",
       "      <td>4.0</td>\n",
       "      <td>3.0</td>\n",
       "      <td>4.0</td>\n",
       "    </tr>\n",
       "    <tr>\n",
       "      <th>135500</th>\n",
       "      <td>0.256814</td>\n",
       "      <td>0.815855</td>\n",
       "      <td>-0.121531</td>\n",
       "      <td>0.381549</td>\n",
       "      <td>0.415942</td>\n",
       "      <td>0.470863</td>\n",
       "      <td>4.0</td>\n",
       "      <td>3.0</td>\n",
       "      <td>2.0</td>\n",
       "    </tr>\n",
       "  </tbody>\n",
       "</table>\n",
       "<p>135501 rows × 9 columns</p>\n",
       "</div>"
      ],
      "text/plain": [
       "        num_pipeline__carat  num_pipeline__depth  num_pipeline__table  \\\n",
       "0                 -0.975439            -0.849607            -0.121531   \n",
       "1                  0.235195             1.833637            -0.121531   \n",
       "2                  0.494617             0.815855             0.399800   \n",
       "3                 -1.018676             0.260701             0.921131   \n",
       "4                 -0.953821            -0.664555            -0.642862   \n",
       "...                     ...                  ...                  ...   \n",
       "135496            -1.040295            -0.016876            -0.642862   \n",
       "135497             0.991842             0.168176            -0.642862   \n",
       "135498             0.451380             1.556060            -0.642862   \n",
       "135499             0.667565            -1.774863             1.442462   \n",
       "135500             0.256814             0.815855            -0.121531   \n",
       "\n",
       "        num_pipeline__x  num_pipeline__y  num_pipeline__z  cat_pipeline__cut  \\\n",
       "0             -1.042757        -1.080970        -1.123150                4.0   \n",
       "1              0.318447         0.279859         0.485354                1.0   \n",
       "2              0.570855         0.606458         0.673737                3.0   \n",
       "3             -1.214034        -1.244270        -1.195605                3.0   \n",
       "4             -1.069801        -1.044681        -1.094168                4.0   \n",
       "...                 ...              ...              ...                ...   \n",
       "135496        -1.268122        -1.244270        -1.239078                4.0   \n",
       "135497         1.048629         1.114501         1.079486                4.0   \n",
       "135498         0.516768         0.588314         0.702719                1.0   \n",
       "135499         0.868337         0.951202         0.688228                4.0   \n",
       "135500         0.381549         0.415942         0.470863                4.0   \n",
       "\n",
       "        cat_pipeline__color  cat_pipeline__clarity  \n",
       "0                       5.0                    5.0  \n",
       "1                       1.0                    2.0  \n",
       "2                       3.0                    4.0  \n",
       "3                       3.0                    3.0  \n",
       "4                       6.0                    5.0  \n",
       "...                     ...                    ...  \n",
       "135496                  1.0                    2.0  \n",
       "135497                  3.0                    1.0  \n",
       "135498                  3.0                    2.0  \n",
       "135499                  3.0                    4.0  \n",
       "135500                  3.0                    2.0  \n",
       "\n",
       "[135501 rows x 9 columns]"
      ]
     },
     "execution_count": 55,
     "metadata": {},
     "output_type": "execute_result"
    }
   ],
   "source": [
    "x_train"
   ]
  },
  {
   "cell_type": "code",
   "execution_count": 56,
   "id": "e225a12d",
   "metadata": {},
   "outputs": [],
   "source": [
    "## Model Training\n",
    "\n",
    "from sklearn.linear_model import LinearRegression,Lasso,Ridge,ElasticNet\n",
    "from sklearn.metrics import r2_score,mean_absolute_error,mean_squared_error"
   ]
  },
  {
   "cell_type": "code",
   "execution_count": 57,
   "id": "5cd7181d",
   "metadata": {},
   "outputs": [],
   "source": [
    "\n",
    "import numpy as np\n",
    "def evaluate_model(true, predicted):\n",
    "    mae = mean_absolute_error(true, predicted)\n",
    "    mse = mean_squared_error(true, predicted)\n",
    "    rmse = np.sqrt(mean_squared_error(true, predicted))\n",
    "    r2_square = r2_score(true, predicted)\n",
    "    return mae, rmse, r2_square"
   ]
  },
  {
   "cell_type": "code",
   "execution_count": 58,
   "id": "18f17fe2",
   "metadata": {},
   "outputs": [],
   "source": [
    "\n",
    "## Train multiple models\n",
    "\n",
    "models={\n",
    "    'LinearRegression':LinearRegression(),\n",
    "    'Lasso':Lasso(),\n",
    "    'Ridge':Ridge(),\n",
    "    'Elasticnet':ElasticNet()\n",
    "}"
   ]
  },
  {
   "cell_type": "code",
   "execution_count": 59,
   "id": "59704014",
   "metadata": {},
   "outputs": [],
   "source": [
    "trained_model_list=[]\n",
    "model_list=[]\n",
    "r2_list=[]"
   ]
  },
  {
   "cell_type": "code",
   "execution_count": 60,
   "id": "74924137",
   "metadata": {},
   "outputs": [
    {
     "data": {
      "text/plain": [
       "['LinearRegression', 'Lasso', 'Ridge', 'Elasticnet']"
      ]
     },
     "execution_count": 60,
     "metadata": {},
     "output_type": "execute_result"
    }
   ],
   "source": [
    "\n",
    "list(models)"
   ]
  },
  {
   "cell_type": "code",
   "execution_count": 61,
   "id": "c5373787",
   "metadata": {},
   "outputs": [
    {
     "name": "stdout",
     "output_type": "stream",
     "text": [
      "LinearRegression()\n",
      "Lasso()\n",
      "Ridge()\n",
      "ElasticNet()\n"
     ]
    }
   ],
   "source": [
    "\n",
    "for i in range(len(list(models))):\n",
    "    model=list(models.values())[i]\n",
    "    print(model)"
   ]
  },
  {
   "cell_type": "code",
   "execution_count": 62,
   "id": "41fdf704",
   "metadata": {},
   "outputs": [
    {
     "data": {
      "text/plain": [
       "dict_keys(['LinearRegression', 'Lasso', 'Ridge', 'Elasticnet'])"
      ]
     },
     "execution_count": 62,
     "metadata": {},
     "output_type": "execute_result"
    }
   ],
   "source": [
    "\n",
    "models.keys()"
   ]
  },
  {
   "cell_type": "code",
   "execution_count": 63,
   "id": "5551975e",
   "metadata": {},
   "outputs": [
    {
     "data": {
      "text/plain": [
       "dict_values([LinearRegression(), Lasso(), Ridge(), ElasticNet()])"
      ]
     },
     "execution_count": 63,
     "metadata": {},
     "output_type": "execute_result"
    }
   ],
   "source": [
    "models.values()"
   ]
  },
  {
   "cell_type": "code",
   "execution_count": 64,
   "id": "f7f856bc",
   "metadata": {},
   "outputs": [
    {
     "name": "stdout",
     "output_type": "stream",
     "text": [
      "LinearRegression\n",
      "Model Training Performance\n",
      "RMSE: 1013.9047094344002\n",
      "MAE: 674.0255115796855\n",
      "R2 score 93.68908248567512\n",
      "===================================\n",
      "\n",
      "\n",
      "Lasso\n",
      "Model Training Performance\n",
      "RMSE: 1013.8723151049944\n",
      "MAE: 675.2036880701619\n",
      "R2 score 93.68948574778251\n",
      "===================================\n",
      "\n",
      "\n",
      "Ridge\n",
      "Model Training Performance\n",
      "RMSE: 1013.9058997760966\n",
      "MAE: 674.0565132296073\n",
      "R2 score 93.68906766741341\n",
      "===================================\n",
      "\n",
      "\n",
      "Elasticnet\n",
      "Model Training Performance\n",
      "RMSE: 1513.914035022976\n",
      "MAE: 1050.7468664314322\n",
      "R2 score 85.92978759337907\n",
      "===================================\n",
      "\n",
      "\n"
     ]
    }
   ],
   "source": [
    "for i in range(len(list(models))):\n",
    "    model=list(models.values())[i]\n",
    "    model.fit(x_train,y_train)\n",
    "\n",
    "    #Make Predictions\n",
    "    y_pred=model.predict(X_test)\n",
    "\n",
    "    #this is a validation(test) score\n",
    "    mae, rmse, r2_square=evaluate_model(y_test,y_pred)\n",
    "\n",
    "    print(list(models.keys())[i])\n",
    "    model_list.append(list(models.keys())[i])\n",
    "\n",
    "    print('Model Training Performance')\n",
    "    print(\"RMSE:\",rmse)\n",
    "    print(\"MAE:\",mae)\n",
    "    print(\"R2 score\",r2_square*100)\n",
    "\n",
    "    r2_list.append(r2_square)\n",
    "    \n",
    "    print('='*35)\n",
    "    print('\\n')"
   ]
  },
  {
   "cell_type": "code",
   "execution_count": 65,
   "id": "c022c755",
   "metadata": {},
   "outputs": [
    {
     "data": {
      "text/plain": [
       "[]"
      ]
     },
     "execution_count": 65,
     "metadata": {},
     "output_type": "execute_result"
    }
   ],
   "source": [
    "\n",
    "trained_model_list"
   ]
  },
  {
   "cell_type": "code",
   "execution_count": 66,
   "id": "0ab966c3",
   "metadata": {},
   "outputs": [
    {
     "data": {
      "text/plain": [
       "['LinearRegression', 'Lasso', 'Ridge', 'Elasticnet']"
      ]
     },
     "execution_count": 66,
     "metadata": {},
     "output_type": "execute_result"
    }
   ],
   "source": [
    "\n",
    "model_list"
   ]
  },
  {
   "cell_type": "code",
   "execution_count": 67,
   "id": "30478e30",
   "metadata": {},
   "outputs": [
    {
     "data": {
      "text/plain": [
       "[0.9368908248567511,\n",
       " 0.9368948574778251,\n",
       " 0.9368906766741341,\n",
       " 0.8592978759337908]"
      ]
     },
     "execution_count": 67,
     "metadata": {},
     "output_type": "execute_result"
    }
   ],
   "source": [
    "\n",
    "r2_list"
   ]
  },
  {
   "cell_type": "code",
   "execution_count": null,
   "id": "97ca1500",
   "metadata": {},
   "outputs": [],
   "source": []
  },
  {
   "cell_type": "code",
   "execution_count": null,
   "id": "7f454422",
   "metadata": {},
   "outputs": [],
   "source": []
  }
 ],
 "metadata": {
  "kernelspec": {
   "display_name": "base",
   "language": "python",
   "name": "python3"
  },
  "language_info": {
   "codemirror_mode": {
    "name": "ipython",
    "version": 3
   },
   "file_extension": ".py",
   "mimetype": "text/x-python",
   "name": "python",
   "nbconvert_exporter": "python",
   "pygments_lexer": "ipython3",
   "version": "3.12.7"
  }
 },
 "nbformat": 4,
 "nbformat_minor": 5
}
