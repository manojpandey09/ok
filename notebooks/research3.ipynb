{
 "cells": [
  {
   "cell_type": "code",
   "execution_count": 78,
   "id": "917b0c04",
   "metadata": {},
   "outputs": [],
   "source": [
    "import logging\n",
    "import os\n",
    "from datetime import datetime\n",
    "import sys\n",
    "import os\n",
    "sys.path.append(os.path.abspath(\"..\"))  #import sys\n"
   ]
  },
  {
   "cell_type": "code",
   "execution_count": 79,
   "id": "7f22744c",
   "metadata": {},
   "outputs": [
    {
     "data": {
      "text/plain": [
       "datetime.datetime(2025, 8, 8, 19, 42, 41, 132960)"
      ]
     },
     "execution_count": 79,
     "metadata": {},
     "output_type": "execute_result"
    }
   ],
   "source": [
    "datetime.now()\n"
   ]
  },
  {
   "cell_type": "code",
   "execution_count": 80,
   "id": "b272e31e",
   "metadata": {},
   "outputs": [
    {
     "data": {
      "text/plain": [
       "'08_08_2025_19_42_41.log'"
      ]
     },
     "execution_count": 80,
     "metadata": {},
     "output_type": "execute_result"
    }
   ],
   "source": [
    "\n",
    "f\"{datetime.now().strftime('%m_%d_%Y_%H_%M_%S')}.log\""
   ]
  },
  {
   "cell_type": "code",
   "execution_count": 81,
   "id": "f95b787a",
   "metadata": {},
   "outputs": [
    {
     "data": {
      "text/plain": [
       "'c:\\\\Users\\\\ASUS\\\\Downloads\\\\pronal\\\\notebooks\\\\logs'"
      ]
     },
     "execution_count": 81,
     "metadata": {},
     "output_type": "execute_result"
    }
   ],
   "source": [
    "\n",
    "os.path.join(os.getcwd(),\"logs\")"
   ]
  },
  {
   "cell_type": "code",
   "execution_count": 82,
   "id": "b43009c8",
   "metadata": {},
   "outputs": [],
   "source": [
    "from src.DiamondPricePrediction.logger import logging"
   ]
  },
  {
   "cell_type": "code",
   "execution_count": 83,
   "id": "5e6b5690",
   "metadata": {},
   "outputs": [
    {
     "data": {
      "text/plain": [
       "'c:\\\\Users\\\\ASUS\\\\Downloads\\\\pronal\\\\notebooks'"
      ]
     },
     "execution_count": 83,
     "metadata": {},
     "output_type": "execute_result"
    }
   ],
   "source": [
    "\n",
    "os.getcwd()"
   ]
  },
  {
   "cell_type": "code",
   "execution_count": 84,
   "id": "81f1b1c4",
   "metadata": {},
   "outputs": [
    {
     "data": {
      "text/plain": [
       "'c:\\\\Users\\\\ASUS\\\\Downloads\\\\pronal\\\\notebooks\\\\logs'"
      ]
     },
     "execution_count": 84,
     "metadata": {},
     "output_type": "execute_result"
    }
   ],
   "source": [
    "os.path.join(os.getcwd(),\"logs\")"
   ]
  },
  {
   "cell_type": "code",
   "execution_count": 85,
   "id": "561fd8d8",
   "metadata": {},
   "outputs": [],
   "source": [
    "# Add the parent directory of 'src' to sys.path\n",
    "sys.path.append(os.path.abspath(os.path.join(os.getcwd(), '..')))"
   ]
  },
  {
   "cell_type": "code",
   "execution_count": 86,
   "id": "646da023",
   "metadata": {},
   "outputs": [],
   "source": [
    "log_path = os.path.join(os.getcwd(), \"logs\")\n",
    "LOG_FILE = f\"{datetime.now().strftime('%m_%d_%Y_%H_%M_%S')}.log\""
   ]
  },
  {
   "cell_type": "code",
   "execution_count": 87,
   "id": "a4b638c1",
   "metadata": {},
   "outputs": [],
   "source": [
    "log_file_path = os.path.join(log_path, LOG_FILE)\n",
    "\n",
    "logging.basicConfig(\n",
    "    filename=log_file_path,\n",
    "    level=logging.INFO,\n",
    "    format='%(asctime)s %(levelname)s %(message)s'\n",
    ")"
   ]
  },
  {
   "cell_type": "code",
   "execution_count": 88,
   "id": "667b9490",
   "metadata": {},
   "outputs": [],
   "source": [
    "logging.info(\"i just testing the manoj logger\")"
   ]
  },
  {
   "cell_type": "code",
   "execution_count": 89,
   "id": "6bef5e95",
   "metadata": {},
   "outputs": [
    {
     "data": {
      "text/plain": [
       "(None, None, None)"
      ]
     },
     "execution_count": 89,
     "metadata": {},
     "output_type": "execute_result"
    }
   ],
   "source": [
    "sys.exc_info()"
   ]
  },
  {
   "cell_type": "code",
   "execution_count": 90,
   "id": "dccdf114",
   "metadata": {},
   "outputs": [],
   "source": [
    "import sys\n",
    "\n",
    "\n",
    "class customexception(Exception):\n",
    "    def __init__(self,error_message,error_details:sys):\n",
    "        self.error_message = error_message\n",
    "        _,_,exc_tb = error_details.exc_info()\n",
    "        \n",
    "        self.lineno=exc_tb.tb_lineno\n",
    "        self.file_name=exc_tb.tb_frame.f_code.co_filename \n",
    "    \n",
    "    def __str__(self):\n",
    "        return \"Error occured in python script name [{0}] line number [{1}] error message [{2}]\".format(\n",
    "        self.file_name, self.lineno, str(self.error_message))\n",
    "        "
   ]
  },
  {
   "cell_type": "code",
   "execution_count": 91,
   "id": "d21e19dc",
   "metadata": {},
   "outputs": [],
   "source": [
    "import sys"
   ]
  },
  {
   "cell_type": "code",
   "execution_count": 92,
   "id": "095d619a",
   "metadata": {},
   "outputs": [
    {
     "name": "stdout",
     "output_type": "stream",
     "text": [
      "2\n",
      "C:\\Users\\ASUS\\AppData\\Local\\Temp\\ipykernel_4160\\1901770474.py\n",
      "division by zero\n"
     ]
    }
   ],
   "source": [
    "try:\n",
    "     a=1/0\n",
    "except Exception as e:\n",
    "     _,_,exc_tb=sys.exc_info()\n",
    "     print(exc_tb.tb_lineno)\n",
    "     print(exc_tb.tb_frame.f_code.co_filename)\n",
    "     \n",
    "     print(e)"
   ]
  },
  {
   "cell_type": "code",
   "execution_count": 93,
   "id": "ba230342",
   "metadata": {},
   "outputs": [],
   "source": [
    "class customexception(Exception):\n",
    "    def __init__(self):\n",
    "        pass\n",
    "    \n",
    "    def __str__(self):\n",
    "        pass\n"
   ]
  },
  {
   "cell_type": "code",
   "execution_count": 94,
   "id": "d6de2e42",
   "metadata": {},
   "outputs": [],
   "source": [
    "from src.DiamondPricePrediction.logger import logging"
   ]
  },
  {
   "cell_type": "code",
   "execution_count": 95,
   "id": "7f656326",
   "metadata": {},
   "outputs": [],
   "source": [
    "logging.info(\"i will be data sciencetist soon \")"
   ]
  },
  {
   "cell_type": "code",
   "execution_count": 96,
   "id": "bac9d53f",
   "metadata": {},
   "outputs": [],
   "source": [
    "os.makedirs(os.path.dirname(os.path.join(\"artifact\" , \"raw.csv\")), exist_ok = True)"
   ]
  },
  {
   "cell_type": "code",
   "execution_count": null,
   "id": "9a24dd98",
   "metadata": {},
   "outputs": [],
   "source": []
  }
 ],
 "metadata": {
  "kernelspec": {
   "display_name": "base",
   "language": "python",
   "name": "python3"
  },
  "language_info": {
   "codemirror_mode": {
    "name": "ipython",
    "version": 3
   },
   "file_extension": ".py",
   "mimetype": "text/x-python",
   "name": "python",
   "nbconvert_exporter": "python",
   "pygments_lexer": "ipython3",
   "version": "3.12.7"
  }
 },
 "nbformat": 4,
 "nbformat_minor": 5
}
